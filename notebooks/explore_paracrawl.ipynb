{
 "cells": [
  {
   "cell_type": "code",
   "execution_count": 172,
   "metadata": {},
   "outputs": [],
   "source": [
    "!pip install -q selenium lxml tldextract"
   ]
  },
  {
   "cell_type": "code",
   "execution_count": 1,
   "metadata": {},
   "outputs": [],
   "source": [
    "import re, os\n",
    "import pandas as pd\n",
    "from bs4 import BeautifulSoup\n",
    "from pprint import pprint\n",
    "from collections import Counter, defaultdict\n",
    "from tqdm.auto import tqdm\n",
    "from urllib.parse import urlparse\n",
    "from requests import get, head\n",
    "from random import sample, choice, seed\n",
    "from time import sleep\n",
    "from selenium import webdriver\n",
    "import json\n",
    "from xmlr import xmlparse, xmliter, XMLParsingMethods\n",
    "from urllib.parse import urlparse\n",
    "from multiprocessing import Pool\n",
    "from functools import partial \n",
    "\n",
    "PATTERN_DOMAIN = '(?:http.*://)?(?P<host>[^:/ ]+).?(?P<port>[0-9]*).*'\n",
    "\n",
    "import tldextract\n",
    "import langdetect\n",
    "import json\n",
    "from xml.etree import ElementTree\n",
    "# import lxml"
   ]
  },
  {
   "cell_type": "code",
   "execution_count": 2,
   "metadata": {},
   "outputs": [],
   "source": [
    "def extract_suffix(url):\n",
    "    obj = tldextract.extract(url)\n",
    "    return obj.suffix\n"
   ]
  },
  {
   "cell_type": "code",
   "execution_count": 3,
   "metadata": {},
   "outputs": [
    {
     "name": "stdout",
     "output_type": "stream",
     "text": [
      "com\n",
      "co.th\n",
      "com\n",
      "com\n"
     ]
    }
   ],
   "source": [
    "# test\n",
    "def test_extract_suffix(): \n",
    "    actual = extract_suffix(\"google.com\")\n",
    "    print(actual)\n",
    "    actual = extract_suffix(\"www.google.co.th\")\n",
    "    print(actual)\n",
    "    actual = extract_suffix(\"www.google.com:433\")\n",
    "    print(actual)\n",
    "    actual = extract_suffix(\"https://www.google.com:433\")\n",
    "    print(actual)\n",
    "test_extract_suffix()"
   ]
  },
  {
   "cell_type": "code",
   "execution_count": 4,
   "metadata": {},
   "outputs": [],
   "source": [
    "def extract_domain(url):\n",
    "    # t = urlparse(url)\n",
    "    ext = tldextract.extract(url)\n",
    "    return '.'.join(part for part in ext[:3] if part)\n"
   ]
  },
  {
   "cell_type": "code",
   "execution_count": 5,
   "metadata": {},
   "outputs": [
    {
     "name": "stdout",
     "output_type": "stream",
     "text": [
      "google.com\n",
      "www.google.com\n",
      "www.google.com\n",
      "www.google.com\n"
     ]
    }
   ],
   "source": [
    "# test\n",
    "def test_extract_domain(): \n",
    "    actual = extract_domain(\"google.com\")\n",
    "    print(actual)\n",
    "    actual = extract_domain(\"www.google.com\")\n",
    "    print(actual)\n",
    "    actual = extract_domain(\"www.google.com:433\")\n",
    "    print(actual)\n",
    "    actual = extract_domain(\"https://www.google.com:433\")\n",
    "    print(actual)\n",
    "test_extract_domain()"
   ]
  },
  {
   "cell_type": "code",
   "execution_count": 6,
   "metadata": {},
   "outputs": [],
   "source": [
    "# dataset = {\n",
    "#     \"en\": defaultdict(lambda: []),\n",
    "#     \"de\": defaultdict(lambda: [])\n",
    "# }"
   ]
  },
  {
   "cell_type": "code",
   "execution_count": 7,
   "metadata": {},
   "outputs": [],
   "source": [
    "# counter = Counter()\n",
    "# with tqdm(total=204522994) as pbar_items:\n",
    "#     with tqdm(total=67977) as pbar_domains:\n",
    "\n",
    "#         for d in xmliter('../data/en-de.bicleaner07.tmx', 'tu'):\n",
    "# #             print(d)\n",
    "            \n",
    "#             counter['row_counter'] += 1\n",
    "#             en_url = d['tuv'][0]['prop']\n",
    "#             de_url = d['tuv'][1]['prop']\n",
    "\n",
    "#             # print(\"en_urls\", en_url)\n",
    "#             # print(\"de_urls\", de_url)\n",
    "\n",
    "#             if en_url == \"unknown\" or de_url == \"unknown\":\n",
    "#                 counter['unkown_url_counter'] += 1\n",
    "#                 continue\n",
    "\n",
    "#             if type(en_url) == list:\n",
    "#                 en_url = en_url[0]\n",
    "#             if type(de_url) == list:\n",
    "#                 de_url = de_url[0]\n",
    "\n",
    "#             if type(en_url) == str:\n",
    "#                 en_domain = extract_domain(en_url)\n",
    "#                 # if not en_domain in dataset['en'].keys():\n",
    "#                     # dataset['en'][en_domain] = []\n",
    "#                 # dataset['en'][en_domain].append(en_url)\n",
    "#                 # else:\n",
    "#                 if len(dataset['en'][en_domain] ) == 10:\n",
    "#                     continue\n",
    "#                 dataset['en'][en_domain].append(en_url)\n",
    "\n",
    "#             if type(de_url) == str:\n",
    "#                 de_domain = extract_domain(de_url)\n",
    "\n",
    "#                 # if not de_domain in dataset['de'].keys():\n",
    "#                 #     dataset['de'][de_domain] = []\n",
    "#                 # dataset['de'][de_domain].append(de_url)\n",
    "#                 # else:\n",
    "#                 if len(dataset['de'][de_domain]) == 10:\n",
    "#                     continue\n",
    "#                 dataset['de'][de_domain].append(de_url)\n",
    "\n",
    "\n",
    "#             if len(dataset['de'].keys()) > counter['domain_counter']:\n",
    "#                 counter['domain_counter'] += 1           \n",
    "#                 pbar_domains.update(1)\n",
    "                \n",
    "#             pbar_items.update(1)\n",
    "#             break"
   ]
  },
  {
   "cell_type": "code",
   "execution_count": 8,
   "metadata": {},
   "outputs": [
    {
     "ename": "NameError",
     "evalue": "name 'dataset' is not defined",
     "output_type": "error",
     "traceback": [
      "\u001b[0;31m---------------------------------------------------------------------------\u001b[0m",
      "\u001b[0;31mNameError\u001b[0m                                 Traceback (most recent call last)",
      "\u001b[0;32m<ipython-input-8-fd6dc7c66d98>\u001b[0m in \u001b[0;36m<module>\u001b[0;34m\u001b[0m\n\u001b[1;32m      2\u001b[0m \u001b[0;32mwith\u001b[0m \u001b[0mopen\u001b[0m\u001b[0;34m(\u001b[0m\u001b[0;34m'../data/en-de.domains.urls.json'\u001b[0m\u001b[0;34m,\u001b[0m \u001b[0;34m'w'\u001b[0m\u001b[0;34m,\u001b[0m \u001b[0mencoding\u001b[0m\u001b[0;34m=\u001b[0m\u001b[0;34m\"utf-8\"\u001b[0m\u001b[0;34m)\u001b[0m \u001b[0;32mas\u001b[0m \u001b[0mf\u001b[0m\u001b[0;34m:\u001b[0m\u001b[0;34m\u001b[0m\u001b[0m\n\u001b[1;32m      3\u001b[0m \u001b[0;34m\u001b[0m\u001b[0m\n\u001b[0;32m----> 4\u001b[0;31m     \u001b[0mjson\u001b[0m\u001b[0;34m.\u001b[0m\u001b[0mdump\u001b[0m\u001b[0;34m(\u001b[0m\u001b[0mdataset\u001b[0m\u001b[0;34m,\u001b[0m \u001b[0mf\u001b[0m\u001b[0;34m,\u001b[0m \u001b[0mensure_ascii\u001b[0m\u001b[0;34m=\u001b[0m\u001b[0;32mFalse\u001b[0m\u001b[0;34m)\u001b[0m\u001b[0;34m\u001b[0m\u001b[0m\n\u001b[0m",
      "\u001b[0;31mNameError\u001b[0m: name 'dataset' is not defined"
     ]
    }
   ],
   "source": [
    "# Dump to JSON\n",
    "with open('../data/en-de.domains.urls.json', 'w', encoding=\"utf-8\") as f:\n",
    "    \n",
    "    json.dump(dataset, f, ensure_ascii=False)"
   ]
  },
  {
   "cell_type": "code",
   "execution_count": 9,
   "metadata": {},
   "outputs": [],
   "source": [
    "# list(dataset['de'].keys())[-100:]"
   ]
  },
  {
   "cell_type": "code",
   "execution_count": 10,
   "metadata": {},
   "outputs": [],
   "source": [
    "# len(set(list(dataset['de'].keys())))"
   ]
  },
  {
   "cell_type": "markdown",
   "metadata": {},
   "source": [
    "## 2. Explore\n",
    "\n"
   ]
  },
  {
   "cell_type": "code",
   "execution_count": 11,
   "metadata": {},
   "outputs": [
    {
     "name": "stdout",
     "output_type": "stream",
     "text": [
      "CPU times: user 12.8 s, sys: 21.3 s, total: 34.2 s\n",
      "Wall time: 38.1 s\n"
     ]
    }
   ],
   "source": [
    "# Load dataset\n",
    "with open('../data/en-de.bicleaner07.json', 'r', encoding=\"utf-8\") as f:\n",
    "    \n",
    "    %time dataset = json.load(f)"
   ]
  },
  {
   "cell_type": "code",
   "execution_count": 12,
   "metadata": {},
   "outputs": [],
   "source": [
    "def get_status(url):\n",
    "    try:\n",
    "        r = head(url, timeout=5)\n",
    "        code = r.status_code\n",
    "    except:\n",
    "        code = 0  # probably bad domain name\n",
    "    return code\n",
    "\n",
    "def get_content(url):\n",
    "    try:\n",
    "        r = get(url)\n",
    "#         print(r.text)\n",
    "#         soup = BeautifulSoup(r.content, 'html.parser')\n",
    "        text = r.text \n",
    "    except Exception as e:\n",
    "        print(e)\n",
    "        text = \"\"  # probably bad domain name\n",
    "    \n",
    "    return text\n",
    "\n",
    "\n",
    "def substitute_de_to_th(de_url):\n",
    "    pattern = re.compile(r'\\bde\\b')\n",
    "\n",
    "    n = len(pattern.findall(de_url))\n",
    "    if n == 1:\n",
    "\n",
    "        th_url = pattern.sub(\"th\", de_url)\n",
    "        return th_url\n",
    "    else:\n",
    "        return None"
   ]
  },
  {
   "cell_type": "markdown",
   "metadata": {},
   "source": [
    "### Find unique domains (registered domain) "
   ]
  },
  {
   "cell_type": "markdown",
   "metadata": {},
   "source": [
    "[de]"
   ]
  },
  {
   "cell_type": "code",
   "execution_count": 13,
   "metadata": {},
   "outputs": [],
   "source": [
    "registered_domains = set()\n",
    "\n",
    "for domain, urls in dataset['de'].items():\n",
    "    \n",
    "    registered_domain = tldextract.extract(domain).registered_domain\n",
    "    registered_domains.add(registered_domain)    \n",
    "    \n",
    "\n",
    "for domain, urls in dataset['en'].items():\n",
    "    \n",
    "    registered_domain = tldextract.extract(domain).registered_domain\n",
    "    registered_domains.add(registered_domain)    "
   ]
  },
  {
   "cell_type": "code",
   "execution_count": 14,
   "metadata": {},
   "outputs": [
    {
     "data": {
      "text/plain": [
       "62716"
      ]
     },
     "execution_count": 14,
     "metadata": {},
     "output_type": "execute_result"
    }
   ],
   "source": [
    "len(registered_domains)"
   ]
  },
  {
   "cell_type": "code",
   "execution_count": 15,
   "metadata": {},
   "outputs": [
    {
     "data": {
      "text/plain": [
       "['rocktimes.de',\n",
       " 'fixpoints.de',\n",
       " 'ines-papert.de',\n",
       " 'hoteljasmin.cz',\n",
       " 'frogsorbing.com',\n",
       " 'moser-systemelektrik.de',\n",
       " 'heyner-germany.de',\n",
       " 'procab.net',\n",
       " 'alfred-graf-hh.de',\n",
       " 'paloma.si']"
      ]
     },
     "execution_count": 15,
     "metadata": {},
     "output_type": "execute_result"
    }
   ],
   "source": [
    "seed(1)\n",
    "sample(registered_domains, 10)"
   ]
  },
  {
   "cell_type": "code",
   "execution_count": null,
   "metadata": {},
   "outputs": [],
   "source": []
  },
  {
   "cell_type": "markdown",
   "metadata": {},
   "source": [
    "### Find domains (full domain name)"
   ]
  },
  {
   "cell_type": "code",
   "execution_count": 16,
   "metadata": {},
   "outputs": [],
   "source": [
    "full_domains = set()\n",
    "\n",
    "for domain, urls in dataset['de'].items():\n",
    "    full_domains.add(domain)    \n",
    "    \n",
    "for domain, urls in dataset['de'].items():\n",
    "    full_domains.add(domain)    \n",
    "    "
   ]
  },
  {
   "cell_type": "code",
   "execution_count": 17,
   "metadata": {},
   "outputs": [
    {
     "data": {
      "text/plain": [
       "77376"
      ]
     },
     "execution_count": 17,
     "metadata": {},
     "output_type": "execute_result"
    }
   ],
   "source": [
    "len(full_domains)"
   ]
  },
  {
   "cell_type": "code",
   "execution_count": 18,
   "metadata": {},
   "outputs": [
    {
     "data": {
      "text/plain": [
       "['www.brinkmann-audio.de',\n",
       " 'www.coloradamar.com',\n",
       " 'www.wshhhp.com',\n",
       " 'elagpochetta.com',\n",
       " 'xmp.net',\n",
       " 'www.dagstuhl.de',\n",
       " 'www.planearium.de',\n",
       " 'www.albergovillafiorita.com',\n",
       " 'mamolimodel.com',\n",
       " 'www.bootlock.dk']"
      ]
     },
     "execution_count": 18,
     "metadata": {},
     "output_type": "execute_result"
    }
   ],
   "source": [
    "seed(1)\n",
    "sample(full_domains, 10)"
   ]
  },
  {
   "cell_type": "code",
   "execution_count": null,
   "metadata": {},
   "outputs": [],
   "source": []
  },
  {
   "cell_type": "code",
   "execution_count": null,
   "metadata": {},
   "outputs": [],
   "source": []
  },
  {
   "cell_type": "markdown",
   "metadata": {},
   "source": [
    "### Find unique domains extension statistics"
   ]
  },
  {
   "cell_type": "code",
   "execution_count": 19,
   "metadata": {},
   "outputs": [],
   "source": [
    "suffix_counter = Counter()\n",
    "\n",
    "for domain, urls in dataset['de'].items():\n",
    "    \n",
    "    suffix = tldextract.extract(domain).suffix\n",
    "    suffix_counter[suffix] += 1\n",
    "    \n",
    "    \n",
    "# for domain, urls in dataset['en'].items():\n",
    "    \n",
    "#     suffix = tldextract.extract(domain).suffix\n",
    "#     suffix_counter[suffix] += 1\n",
    "    \n",
    "    \n"
   ]
  },
  {
   "cell_type": "code",
   "execution_count": 20,
   "metadata": {},
   "outputs": [
    {
     "data": {
      "text/plain": [
       "[('com', 26360),\n",
       " ('de', 20093),\n",
       " ('org', 3584),\n",
       " ('net', 3403),\n",
       " ('ch', 2941),\n",
       " ('it', 2830),\n",
       " ('at', 2426),\n",
       " ('cz', 1876),\n",
       " ('eu', 1864),\n",
       " ('biz', 1091),\n",
       " ('nl', 981),\n",
       " ('info', 908),\n",
       " ('pl', 719),\n",
       " ('hu', 691),\n",
       " ('sk', 499)]"
      ]
     },
     "execution_count": 20,
     "metadata": {},
     "output_type": "execute_result"
    }
   ],
   "source": [
    "suffix_counter.most_common(15)"
   ]
  },
  {
   "cell_type": "markdown",
   "metadata": {},
   "source": [
    "### Find which domains fall in `\\bde\\b` pattern"
   ]
  },
  {
   "cell_type": "code",
   "execution_count": 21,
   "metadata": {},
   "outputs": [],
   "source": [
    "SUB_LANG_PATTERNS = [\n",
    "    (r'(lang=)(de)', r'\\1th'),\n",
    "    (r'(/)(de)(/)', r'\\1th\\3'),\n",
    "    (r'(/)(german|ger|ge)(/)', r'\\1th\\3'),\n",
    "    (r'(lang=)((german|ger|ge))', r'\\1th'),\n",
    "]"
   ]
  },
  {
   "cell_type": "code",
   "execution_count": 22,
   "metadata": {},
   "outputs": [
    {
     "data": {
      "application/vnd.jupyter.widget-view+json": {
       "model_id": "cb7c39ca82c6421999c5c777d102454b",
       "version_major": 2,
       "version_minor": 0
      },
      "text/plain": [
       "HBox(children=(IntProgress(value=0, max=77376), HTML(value='')))"
      ]
     },
     "metadata": {},
     "output_type": "display_data"
    },
    {
     "name": "stdout",
     "output_type": "stream",
     "text": [
      "\n",
      "number of URLs that matched with the following patterns:\n"
     ]
    },
    {
     "data": {
      "text/plain": [
       "Counter({'(/)(de)(/)': 25558,\n",
       "         '(/)(german|ger|ge)(/)': 1319,\n",
       "         '(lang=)(de)': 2498,\n",
       "         '(lang=)((german|ger|ge))': 183})"
      ]
     },
     "execution_count": 22,
     "metadata": {},
     "output_type": "execute_result"
    }
   ],
   "source": [
    "# มีความหลากหลายใน url format จริงๆ สงสัยต้องไปดู code เฉพาะของเขาแล้วมั้ง น่าจะมี handcraft เยอะอยู่\n",
    "# ดู en ไปแล้ว ดู mt บ้าง\n",
    "\n",
    "counter = Counter()\n",
    "\n",
    "res = []\n",
    "\n",
    "examples_urls_in_pattern = defaultdict(set)\n",
    "\n",
    "for domain, urls in tqdm(dataset['de'].items()):\n",
    "    \n",
    "    for pattern in SUB_LANG_PATTERNS:\n",
    "        for url in urls[:1]:\n",
    "            if re.search(pattern[0], url):\n",
    "                counter[pattern[0]] += 1\n",
    "\n",
    "                examples_urls_in_pattern[pattern[0]].add(url)\n",
    "\n",
    "print('number of URLs that matched with the following patterns:')\n",
    "counter"
   ]
  },
  {
   "cell_type": "code",
   "execution_count": 23,
   "metadata": {},
   "outputs": [
    {
     "name": "stdout",
     "output_type": "stream",
     "text": [
      "\n",
      "pattern: (/)(de)(/)\n",
      "urls (10 samples) http://medjugorjeaccommodation.com/de/hotels/hotel-accommodation/hotel-merci-medugorje-best-hotel.html\n",
      " - https://www.hotelbellaromagna.it/de/servizi.php\n",
      " - http://www.villaggioinnamorata.com/de/elba.php\n",
      " - anikavavic.com/de/presse/story/705/der-energische-ton-der-anika-vavic-von-bach-bis-ravel.html\n",
      " - http://www.exclosiv.de/de/toilettenvermietung/modelle/modell_nobles_media.html\n",
      " - http://www.creationwatches.com/products/de/tissot-women-s-345/\n",
      " - http://www.wheelabratorgroup.com/de/sites/wheelabrator/content/brands/tilghman_wheelabrator.aspx\n",
      " - rhizopon.nl/de/anwendungen-und-kulturinformation/verwoehnen-sie-ihre-stecklinge\n",
      " - www.globecharge.com/de/contact.html\n",
      " - https://zahnarztzentrum.ch/de/baden.html\n",
      "\n",
      "\n",
      "pattern: (/)(german|ger|ge)(/)\n",
      "urls (10 samples) http://www.absolute-cold.com/german/agb.htm\n",
      " - http://www.gerald-able.de/german/personal.php\n",
      " - http://www.austriacar.com/ge/sitemap.htm\n",
      " - www.barcodefor.us/barcode-generator/german/card-label-maker-software.html\n",
      " - www.beckhoff.ch/german/drive_technology/at20xx_0xxx_0002.htm\n",
      " - deltaflorence.com/german/zimmer.htm\n",
      " - http://microclass.dotan.com/german/links/\n",
      " - casinonordic.com/german/rules/slots.shtml\n",
      " - zetatalk5.com/german/issue522.htm\n",
      " - developersinternational.com/german/services.htm\n",
      "\n",
      "\n",
      "pattern: (lang=)(de)\n",
      "urls (10 samples) http://www.beach-villas-salalah.com/index.php?lang=de\n",
      " - arsenalzadar.com/konferenzen/?lang=de\n",
      " - http://kaltgasdichtungen.de/index.php?loc=informationsschutz&u=kaltgasdichtungen.de&lang=de\n",
      " - chaperon.com/visitorinfo.php?lang=de\n",
      " - http://www.funan.de/suche.php?lang=de\n",
      " - https://www.carconnex.be/site/contact.php?lang=de\n",
      " - www.helterskelterhostel.com/index.php?page=more_links&links.php?lang=de&information=information&location=Germany%40%40Rostock\n",
      " - http://www.dal-info.de/biografie.php?lang=de\n",
      " - http://aps.mowis.at/kunden/schalber.com/messnetzseite.php?iframe=true&width=515&height=600&lang=de\n",
      " - http://dreamlandes.fr/index.php?page=pages_inscription&ID=14824242456860216555562364907&lang=de\n",
      "\n",
      "\n",
      "pattern: (lang=)((german|ger|ge))\n",
      "urls (10 samples) http://www.internationaltipplers.com/rules.php?lang=german\n",
      " - http://shb-gmbh.com/Aktuelles/Aktuelles.php?setlang=ger\n",
      " - verdampftnochmal.de/navi.php?k=594&hf=88&qf=1&lang=ger\n",
      " - http://www.autocross-france.net/cpg/faq.php?lang=german_sie\n",
      " - http://www.szilasuszodatechnika.hu/index.php?page=shop.product_details&product_id=1207&flypage=flypage.tpl&pop=0&option=com_virtuemart&Itemid=72&lang=german\n",
      " - http://www.vladomakoluko.sk/copermine/cpg1414/faq.php?lang=german\n",
      " - http://www.jajceportal.com/modules.php?name=News&file=friend&sid=3045&newlang=german\n",
      " - http://www.pfeifenkonsulat.at/shop/index.php?a=2872&lang=ger\n",
      " - gregoriuscorner.com/index.php?stiluslap=silver&menu=news&lang=ger&order=date&topic=topiclist&item=20&first=220&choosedir=&choosealbum=&szuro=\n",
      " - http://www.panopti.de/gallery/thumbnails.php?album=topn&lang=german\n",
      "\n"
     ]
    }
   ],
   "source": [
    "for pattern, urls in examples_urls_in_pattern.items():\n",
    "    \n",
    "    print('\\npattern:', pattern)\n",
    "    print('urls (10 samples)', '\\n - '.join(list(urls)[:10]))\n",
    "    print('')"
   ]
  },
  {
   "cell_type": "code",
   "execution_count": null,
   "metadata": {},
   "outputs": [],
   "source": []
  },
  {
   "cell_type": "code",
   "execution_count": 24,
   "metadata": {},
   "outputs": [],
   "source": [
    "## Send http HEAD Request to that modified URLs ,"
   ]
  },
  {
   "cell_type": "markdown",
   "metadata": {},
   "source": [
    "### 3) Substitute /de/ as /th/, call a HTTP HEAD request and check returned HTTP[link text](https:// [link text](https://)) staus\n"
   ]
  },
  {
   "cell_type": "code",
   "execution_count": 25,
   "metadata": {},
   "outputs": [],
   "source": [
    "SUB_LANG_PATTERNS = [\n",
    "    (r'(lang=)(de)', r'\\1th'),\n",
    "    (r'(/)(de)(/)', r'\\1th\\3'),\n",
    "    (r'(/)(german|ger|ge)(/)', r'\\1th\\3'),\n",
    "    (r'(lang=)((german|ger|ge))', r'\\1th'),\n",
    "]"
   ]
  },
  {
   "cell_type": "code",
   "execution_count": 26,
   "metadata": {},
   "outputs": [
    {
     "name": "stdout",
     "output_type": "stream",
     "text": [
      "sub_pattern=0,modified_url=balozi.lv/pub/index.php?lang=ger, url=balozi.lv/pub/index.php?lang=ger\n",
      "sub_pattern=1,modified_url=balozi.lv/pub/index.php?lang=ger, url=balozi.lv/pub/index.php?lang=ger\n",
      "sub_pattern=2,modified_url=balozi.lv/pub/index.php?lang=ger, url=balozi.lv/pub/index.php?lang=ger\n",
      "sub_pattern=3,modified_url=balozi.lv/pub/index.php?lang=th, url=balozi.lv/pub/index.php?lang=ger\n",
      "\n",
      "sub_pattern=0,modified_url=balozi.lv/pub/index.php?lang=ge, url=balozi.lv/pub/index.php?lang=ge\n",
      "sub_pattern=1,modified_url=balozi.lv/pub/index.php?lang=ge, url=balozi.lv/pub/index.php?lang=ge\n",
      "sub_pattern=2,modified_url=balozi.lv/pub/index.php?lang=ge, url=balozi.lv/pub/index.php?lang=ge\n",
      "sub_pattern=3,modified_url=balozi.lv/pub/index.php?lang=th, url=balozi.lv/pub/index.php?lang=ge\n",
      "\n",
      "sub_pattern=0,modified_url=balozi.lv/pub/index.php?lang=german, url=balozi.lv/pub/index.php?lang=german\n",
      "sub_pattern=1,modified_url=balozi.lv/pub/index.php?lang=german, url=balozi.lv/pub/index.php?lang=german\n",
      "sub_pattern=2,modified_url=balozi.lv/pub/index.php?lang=german, url=balozi.lv/pub/index.php?lang=german\n",
      "sub_pattern=3,modified_url=balozi.lv/pub/index.php?lang=th, url=balozi.lv/pub/index.php?lang=german\n",
      "\n",
      "sub_pattern=0,modified_url=balozi.lv/de/index.php?lang=th, url=balozi.lv/de/index.php?lang=de\n",
      "sub_pattern=1,modified_url=balozi.lv/th/index.php?lang=de, url=balozi.lv/de/index.php?lang=de\n",
      "sub_pattern=2,modified_url=balozi.lv/de/index.php?lang=de, url=balozi.lv/de/index.php?lang=de\n",
      "sub_pattern=3,modified_url=balozi.lv/de/index.php?lang=de, url=balozi.lv/de/index.php?lang=de\n",
      "\n",
      "sub_pattern=0,modified_url=balozi.lv/ge/index.php, url=balozi.lv/ge/index.php\n",
      "sub_pattern=1,modified_url=balozi.lv/ge/index.php, url=balozi.lv/ge/index.php\n",
      "sub_pattern=2,modified_url=balozi.lv/th/index.php, url=balozi.lv/ge/index.php\n",
      "sub_pattern=3,modified_url=balozi.lv/ge/index.php, url=balozi.lv/ge/index.php\n",
      "\n"
     ]
    }
   ],
   "source": [
    "def test_substitue_lang():\n",
    "    urls = [\n",
    "        \"balozi.lv/pub/index.php?lang=ger\",\n",
    "        \"balozi.lv/pub/index.php?lang=ge\",\n",
    "        \"balozi.lv/pub/index.php?lang=german\",\n",
    "        \"balozi.lv/de/index.php?lang=de\",\n",
    "        \"balozi.lv/ge/index.php\"\n",
    "    ]\n",
    "    for url in urls:\n",
    "        for i in range(0, len(SUB_LANG_PATTERNS)):\n",
    "            sub_pattern = SUB_LANG_PATTERNS[i]\n",
    "            match, replace = sub_pattern\n",
    "\n",
    "            modified_url = re.sub(match, replace, url)\n",
    "\n",
    "            print('sub_pattern={},modified_url={}, url={}'.format(i,modified_url, url))\n",
    "            \n",
    "        print('')\n",
    "        \n",
    "test_substitue_lang()"
   ]
  },
  {
   "cell_type": "code",
   "execution_count": null,
   "metadata": {},
   "outputs": [],
   "source": [
    "urls_with_status = defaultdict(set)\n",
    "pattern_counter = defaultdict(Counter)"
   ]
  },
  {
   "cell_type": "code",
   "execution_count": null,
   "metadata": {},
   "outputs": [],
   "source": [
    "def substitue_lang_worker(match, replace, url):\n",
    "#     print('.')\n",
    "    modified_url = re.sub(match, replace, url)\n",
    "    status = get_status(modified_url)\n",
    "#     print('status={}, modified_url={}, url={}'.format(status, modified_url, url))\n",
    "    \n",
    "    if int(status) == 200:\n",
    "        print('status={}, modified_url={}, url={}'.format(status, modified_url, url))\n",
    "        print('count', pattern_counter[match][200])\n",
    "#     global_counter+=1\n",
    "#     print(global_counter, sep=' ', end='', flush=True)\n",
    "\n",
    "    pattern_counter[match][status] += 1\n",
    "    urls_with_status[status].add(url)"
   ]
  },
  {
   "cell_type": "code",
   "execution_count": null,
   "metadata": {},
   "outputs": [],
   "source": [
    "_substitue_lang_worker = partial(substitue_lang_worker,\n",
    "                                     SUB_LANG_PATTERNS[0][0], SUB_LANG_PATTERNS[0][1])\n",
    "_substitue_lang_worker('g?lang=de')"
   ]
  },
  {
   "cell_type": "code",
   "execution_count": null,
   "metadata": {},
   "outputs": [],
   "source": [
    "\n",
    "for pattern, urls in examples_urls_in_pattern.items():\n",
    "    for sub_pattern in SUB_LANG_PATTERNS:\n",
    "        if pattern == sub_pattern[0]:\n",
    "            match, replace = sub_pattern[0], sub_pattern[1]\n",
    "            break\n",
    "            \n",
    "    print('')\n",
    "    print('pattern:', pattern)\n",
    "    print('number of urls for this pattern:', len(urls))\n",
    "    print('')\n",
    "    _substitue_lang_worker = partial(substitue_lang_worker,\n",
    "                                     match, replace)\n",
    "\n",
    "    for url in tqdm(urls):\n",
    "        _substitue_lang_worker(url)\n",
    "#     workers = Pool(processes=1)\n",
    "\n",
    "#     workers.map(_substitue_lang_worker, urls)\n",
    "#     workers.close()\n",
    "#     workers.join()"
   ]
  },
  {
   "cell_type": "code",
   "execution_count": null,
   "metadata": {},
   "outputs": [],
   "source": [
    "pattern_counter"
   ]
  },
  {
   "cell_type": "code",
   "execution_count": 228,
   "metadata": {},
   "outputs": [
    {
     "data": {
      "text/plain": [
       "defaultdict(set, {0: {'g?lang=de'}})"
      ]
     },
     "execution_count": 228,
     "metadata": {},
     "output_type": "execute_result"
    }
   ],
   "source": [
    "urls_with_status"
   ]
  },
  {
   "cell_type": "code",
   "execution_count": 133,
   "metadata": {},
   "outputs": [],
   "source": [
    "# http_status_de = {}\n",
    "# counter = 0\n",
    "# for (domain, url) in tqdm(to_substitute_urls):\n",
    "# #     urls = urls[:1]\n",
    "#     urls_th = substitute_de_to_th(url)\n",
    "# #     urls_th = list(filter(lambda x: x != None, urls_th))\n",
    "    \n",
    "#     http_status_de[domain] = { }\n",
    "#     http_status_de[domain]['status'] = get_status(url)\n",
    "#     http_status_de[domain]['th_url'] = url\n",
    "    \n",
    "# #     if counter == 100:\n",
    "# #         break\n",
    "\n",
    "#     if http_status_de[domain]['status'] == 200:\n",
    "        \n",
    "#         # Detect lang\n",
    "# #         print('urls_th[0]', urls_th[0])\n",
    "# #         content = get_content(urls_th[0])\n",
    "        \n",
    "# #         if content == '':\n",
    "# #             http_status_de[domain]['lang_id'] = None\n",
    "# #         else:\n",
    "# #             print(content[:100])\n",
    "# #             lang = langdetect.detect(content)\n",
    "# #             print(\"Language detect:\", lang)\n",
    "# #             http_status_de[domain]['lang_id'] = lang\n",
    "\n",
    "#         print(http_status_de[domain])\n",
    "\n",
    "#     counter += 1\n",
    "#     # break\n",
    "\n"
   ]
  },
  {
   "cell_type": "code",
   "execution_count": 80,
   "metadata": {},
   "outputs": [],
   "source": [
    "cnt = Counter()\n",
    "for item, v in http_status_de.items():\n",
    "#     if v['status'][0] == 200:\n",
    "    cnt[v['status'][0]] += 1"
   ]
  },
  {
   "cell_type": "code",
   "execution_count": 81,
   "metadata": {},
   "outputs": [
    {
     "data": {
      "text/plain": [
       "Counter({0: 26999,\n",
       "         301: 629,\n",
       "         500: 29,\n",
       "         200: 179,\n",
       "         302: 131,\n",
       "         404: 343,\n",
       "         403: 29,\n",
       "         406: 23,\n",
       "         521: 2,\n",
       "         307: 2,\n",
       "         410: 2,\n",
       "         424: 1,\n",
       "         409: 1,\n",
       "         308: 1,\n",
       "         503: 3,\n",
       "         402: 1,\n",
       "         303: 5,\n",
       "         412: 1})"
      ]
     },
     "execution_count": 81,
     "metadata": {},
     "output_type": "execute_result"
    }
   ],
   "source": [
    "cnt"
   ]
  },
  {
   "cell_type": "code",
   "execution_count": null,
   "metadata": {},
   "outputs": [],
   "source": []
  },
  {
   "cell_type": "markdown",
   "metadata": {},
   "source": [
    "### Examples:\n",
    "\n",
    "- https://2fish.co/th/church/does-my-church-really-matter/\n",
    "\n",
    "- http://www.oil-painting-online.com/th/expressionism-oil-painting/li-shan-oil-painting-art.html\n",
    "\n",
    "- https://golfauvietnam.com/orient-golf/?lang=th\n",
    "\n",
    "- https://gsuite.google.se/intl/th/terms/sla.html\n",
    "\n",
    "- http://www.xd-cinema.com/th/analytical-comparison-3d-4d-5d-6d-7d-9d-truck-mobile-cinema/"
   ]
  },
  {
   "cell_type": "code",
   "execution_count": null,
   "metadata": {},
   "outputs": [],
   "source": []
  },
  {
   "cell_type": "markdown",
   "metadata": {},
   "source": [
    "## Detect Language"
   ]
  },
  {
   "cell_type": "code",
   "execution_count": 83,
   "metadata": {},
   "outputs": [],
   "source": [
    "def fetch_content(url):\n",
    "    \"\"\"fetch HTML content (excluded HTML <script> tags)\"\"\"\n",
    "    pass\n",
    "def detect_language(content):\n",
    "    \"\"\"return language id\"\"\"\n",
    "    pass"
   ]
  },
  {
   "cell_type": "code",
   "execution_count": 84,
   "metadata": {},
   "outputs": [],
   "source": [
    "cnt = Counter()\n",
    "for item, v in http_status_de.items():\n",
    "    if v['status'][0] == 200:\n",
    "        url = v['th_url'][0]\n",
    "        \n",
    "        content = fetch_content(url)\n",
    "        \n",
    "        "
   ]
  },
  {
   "cell_type": "code",
   "execution_count": null,
   "metadata": {},
   "outputs": [],
   "source": []
  }
 ],
 "metadata": {
  "kernelspec": {
   "display_name": "Python 3",
   "language": "python",
   "name": "python3"
  },
  "language_info": {
   "codemirror_mode": {
    "name": "ipython",
    "version": 3
   },
   "file_extension": ".py",
   "mimetype": "text/x-python",
   "name": "python",
   "nbconvert_exporter": "python",
   "pygments_lexer": "ipython3",
   "version": "3.7.0"
  }
 },
 "nbformat": 4,
 "nbformat_minor": 4
}
