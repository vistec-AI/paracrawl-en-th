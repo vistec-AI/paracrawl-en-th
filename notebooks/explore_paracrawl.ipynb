{
 "cells": [
  {
   "cell_type": "code",
   "execution_count": 172,
   "metadata": {},
   "outputs": [],
   "source": [
    "!pip install -q selenium lxml tldextract"
   ]
  },
  {
   "cell_type": "code",
   "execution_count": 248,
   "metadata": {},
   "outputs": [],
   "source": [
    "import re, os\n",
    "import pandas as pd\n",
    "from bs4 import BeautifulSoup\n",
    "from pprint import pprint\n",
    "from collections import Counter, defaultdict\n",
    "from tqdm.auto import tqdm\n",
    "from urllib.parse import urlparse\n",
    "from requests import get, head\n",
    "from random import sample, choice\n",
    "from time import sleep\n",
    "from selenium import webdriver\n",
    "\n",
    "from xmlr import xmlparse, xmliter, XMLParsingMethods\n",
    "from urllib.parse import urlparse\n",
    "\n",
    "PATTERN_DOMAIN = '(?:http.*://)?(?P<host>[^:/ ]+).?(?P<port>[0-9]*).*'\n",
    "\n",
    "import tldextract\n",
    "import langdetect\n",
    "import json\n",
    "from xml.etree import ElementTree\n",
    "# import lxml"
   ]
  },
  {
   "cell_type": "code",
   "execution_count": 237,
   "metadata": {},
   "outputs": [],
   "source": [
    "def extract_suffix(url):\n",
    "    obj = tldextract.extract(url)\n",
    "    return obj.suffix\n"
   ]
  },
  {
   "cell_type": "code",
   "execution_count": 238,
   "metadata": {},
   "outputs": [
    {
     "name": "stdout",
     "output_type": "stream",
     "text": [
      "com\n",
      "co.th\n",
      "com\n",
      "com\n"
     ]
    }
   ],
   "source": [
    "# test\n",
    "def test_extract_suffix(): \n",
    "    actual = extract_suffix(\"google.com\")\n",
    "    print(actual)\n",
    "    actual = extract_suffix(\"www.google.co.th\")\n",
    "    print(actual)\n",
    "    actual = extract_suffix(\"www.google.com:433\")\n",
    "    print(actual)\n",
    "    actual = extract_suffix(\"https://www.google.com:433\")\n",
    "    print(actual)\n",
    "test_extract_suffix()"
   ]
  },
  {
   "cell_type": "code",
   "execution_count": 252,
   "metadata": {},
   "outputs": [],
   "source": [
    "def extract_domain(url):\n",
    "    # t = urlparse(url)\n",
    "    ext = tldextract.extract(url)\n",
    "    return '.'.join(part for part in ext[:3] if part)\n"
   ]
  },
  {
   "cell_type": "code",
   "execution_count": 253,
   "metadata": {},
   "outputs": [
    {
     "name": "stdout",
     "output_type": "stream",
     "text": [
      "google.com\n",
      "www.google.com\n",
      "www.google.com\n",
      "www.google.com\n"
     ]
    }
   ],
   "source": [
    "# test\n",
    "def test_extract_domain(): \n",
    "    actual = extract_domain(\"google.com\")\n",
    "    print(actual)\n",
    "    actual = extract_domain(\"www.google.com\")\n",
    "    print(actual)\n",
    "    actual = extract_domain(\"www.google.com:433\")\n",
    "    print(actual)\n",
    "    actual = extract_domain(\"https://www.google.com:433\")\n",
    "    print(actual)\n",
    "test_extract_domain()"
   ]
  },
  {
   "cell_type": "code",
   "execution_count": 254,
   "metadata": {},
   "outputs": [],
   "source": [
    "dataset = {\n",
    "    \"en\": defaultdict(lambda: []),\n",
    "    \"de\": defaultdict(lambda: [])\n",
    "}"
   ]
  },
  {
   "cell_type": "code",
   "execution_count": 255,
   "metadata": {},
   "outputs": [
    {
     "data": {
      "application/vnd.jupyter.widget-view+json": {
       "model_id": "1429797969864cdda82144bb7d31dc62",
       "version_major": 2,
       "version_minor": 0
      },
      "text/plain": [
       "HBox(children=(IntProgress(value=0, max=204522994), HTML(value='')))"
      ]
     },
     "metadata": {},
     "output_type": "display_data"
    },
    {
     "data": {
      "application/vnd.jupyter.widget-view+json": {
       "model_id": "cfca6520c1084201a527c3410bddaebe",
       "version_major": 2,
       "version_minor": 0
      },
      "text/plain": [
       "HBox(children=(IntProgress(value=0, max=67977), HTML(value='')))"
      ]
     },
     "metadata": {},
     "output_type": "display_data"
    },
    {
     "name": "stdout",
     "output_type": "stream",
     "text": [
      "\n",
      "\n"
     ]
    }
   ],
   "source": [
    "counter = Counter()\n",
    "with tqdm(total=204522994) as pbar_items:\n",
    "    with tqdm(total=67977) as pbar_domains:\n",
    "\n",
    "        for d in xmliter('../data/en-de.bicleaner07.tmx', 'tu'):\n",
    "#             print(d)\n",
    "            \n",
    "            counter['row_counter'] += 1\n",
    "            en_url = d['tuv'][0]['prop']\n",
    "            de_url = d['tuv'][1]['prop']\n",
    "\n",
    "            # print(\"en_urls\", en_url)\n",
    "            # print(\"de_urls\", de_url)\n",
    "\n",
    "            if en_url == \"unknown\" or de_url == \"unknown\":\n",
    "                counter['unkown_url_counter'] += 1\n",
    "                continue\n",
    "\n",
    "            if type(en_url) == list:\n",
    "                en_url = en_url[0]\n",
    "            if type(de_url) == list:\n",
    "                de_url = de_url[0]\n",
    "\n",
    "            if type(en_url) == str:\n",
    "                en_domain = extract_domain(en_url)\n",
    "                # if not en_domain in dataset['en'].keys():\n",
    "                    # dataset['en'][en_domain] = []\n",
    "                # dataset['en'][en_domain].append(en_url)\n",
    "                # else:\n",
    "                if len(dataset['en'][en_domain] ) == 10:\n",
    "                    continue\n",
    "                dataset['en'][en_domain].append(en_url)\n",
    "\n",
    "            if type(de_url) == str:\n",
    "                de_domain = extract_domain(de_url)\n",
    "\n",
    "                # if not de_domain in dataset['de'].keys():\n",
    "                #     dataset['de'][de_domain] = []\n",
    "                # dataset['de'][de_domain].append(de_url)\n",
    "                # else:\n",
    "                if len(dataset['de'][de_domain]) == 10:\n",
    "                    continue\n",
    "                dataset['de'][de_domain].append(de_url)\n",
    "\n",
    "\n",
    "            if len(dataset['de'].keys()) > counter['domain_counter']:\n",
    "                counter['domain_counter'] += 1           \n",
    "                pbar_domains.update(1)\n",
    "                \n",
    "            pbar_items.update(1)\n",
    "            break"
   ]
  },
  {
   "cell_type": "code",
   "execution_count": 256,
   "metadata": {},
   "outputs": [],
   "source": [
    "# Dump to JSON\n",
    "with open('../data/en-de.domains.urls.json', 'w', encoding=\"utf-8\") as f:\n",
    "    \n",
    "    json.dump(dataset, f, ensure_ascii=False)"
   ]
  },
  {
   "cell_type": "code",
   "execution_count": 199,
   "metadata": {},
   "outputs": [
    {
     "data": {
      "text/plain": [
       "['logosquotes.org',\n",
       " 'dobner.net',\n",
       " 'austrodiesel.at',\n",
       " 'respect.cz',\n",
       " 'clasificadoinmobiliariogratis.com',\n",
       " 'knotland.org',\n",
       " 'vos-mechanical.com',\n",
       " 'aurel-archery.de',\n",
       " 'tubatrade.hu',\n",
       " 'marmotex.it',\n",
       " 'geemarc.com',\n",
       " 'holidays-in-komiza.com',\n",
       " 'pfeifenmacher-pb.de',\n",
       " 'canyoning-team.de',\n",
       " 'tecma-pack.fr',\n",
       " 'solfagroup.com',\n",
       " 'raken.com',\n",
       " 'anunciosinmobiliarioseuropa.com',\n",
       " 'come-vendere-la-casa.com',\n",
       " 'vendere-agli-stranieri.com',\n",
       " 'vendere-casa-inglesi.com',\n",
       " 'annunciimmobiliarigratisprivati.com',\n",
       " 'real-estate-overseas.com',\n",
       " 'annoncesimmogratuites.com',\n",
       " 'inmobiliario-particulares.com',\n",
       " 'thehamlet.ie',\n",
       " 'warminskawinnica.pl',\n",
       " 'diehl-patent.de',\n",
       " 'staldijkzicht.nl',\n",
       " 'freiberger-dom.de',\n",
       " 'pabst-publishers.com',\n",
       " '3doptik.de',\n",
       " 'durst-lackieranlagen.de',\n",
       " 'conaxesstrade.com',\n",
       " 'traveldata.sk',\n",
       " 'daltonbv.nl',\n",
       " 'amt-analysenmesstechnik.de',\n",
       " 'remanenz.de',\n",
       " 'charamel.com',\n",
       " 'hoehne.de',\n",
       " 'tinasoft.com',\n",
       " 'betgun.com',\n",
       " 'scienceblogs.de',\n",
       " 'osteriamascaron.it',\n",
       " 'isomed2000.de',\n",
       " 'navara.cz',\n",
       " 'smartspector.com',\n",
       " 'veysonnaz.com',\n",
       " 'ing-kraemer.de',\n",
       " 'nachweise-international.de',\n",
       " 'dupontlightstone.com',\n",
       " 'absinthe-rey.ch',\n",
       " 'kbe-bauelemente.de',\n",
       " '3hg4.de',\n",
       " 'fraunhofersaitenmusik.de',\n",
       " 'staudinger-est.de',\n",
       " 'exmaralda.org',\n",
       " 'diving-center-turtle-beach.com',\n",
       " 'saborlatino.nl',\n",
       " 'reer.it',\n",
       " 'mbohlen.de',\n",
       " 'sequoia.it',\n",
       " 'geuther-appartments.de',\n",
       " 'dbc-broadcast.de',\n",
       " 'frantoiomagnone.com',\n",
       " 'capri-berlin.de',\n",
       " 'birgitteknaus.com',\n",
       " 'setzbauer.com',\n",
       " 'nomansland-records.de',\n",
       " 'chilemountains.info',\n",
       " 'vpp-nigeria.org',\n",
       " 'esternet.org',\n",
       " 'trannyhussy.com',\n",
       " 'hotel-ami.com',\n",
       " 'casamora.it',\n",
       " 'milan-keramik.de',\n",
       " 'nystrupcampingklitmoller.dk',\n",
       " 'notebookchat.com',\n",
       " 'nuvomanufacturing.de',\n",
       " 'trojanestate.com',\n",
       " 'hearcom.eu',\n",
       " 'ibizahotelsguide.es',\n",
       " 'tobaci.com',\n",
       " 'dravit.si',\n",
       " 'wein-und-sektkellerei-stengel.de',\n",
       " 'tram.org',\n",
       " 'tap-dance.de',\n",
       " 'voice-pool.com',\n",
       " 'rijeka24.com',\n",
       " 'pension-hof-sauer.de',\n",
       " 'msd-dresden.com',\n",
       " 'piric-lopar.com',\n",
       " 'bustyfriendfinder.com',\n",
       " 'fiemme2013.com',\n",
       " 'pemag.cz',\n",
       " 'edmundoptics.de',\n",
       " 'm-base.de',\n",
       " 'zadorspaincamps.com',\n",
       " 'kober-web.at',\n",
       " 'forwind.de']"
      ]
     },
     "execution_count": 199,
     "metadata": {},
     "output_type": "execute_result"
    }
   ],
   "source": [
    "list(dataset['de'].keys())[-100:]"
   ]
  },
  {
   "cell_type": "code",
   "execution_count": 116,
   "metadata": {},
   "outputs": [
    {
     "data": {
      "text/plain": [
       "71097"
      ]
     },
     "execution_count": 116,
     "metadata": {},
     "output_type": "execute_result"
    }
   ],
   "source": [
    "len(set(list(dataset['de'].keys())))"
   ]
  },
  {
   "cell_type": "markdown",
   "metadata": {},
   "source": [
    "## 2. Explore\n",
    "\n"
   ]
  },
  {
   "cell_type": "code",
   "execution_count": 74,
   "metadata": {},
   "outputs": [],
   "source": [
    "def get_status(url):\n",
    "  try:\n",
    "    r = head(url, timeout=5)\n",
    "    code = r.status_code\n",
    "  except:\n",
    "    code = 0  # probably bad domain name\n",
    "  return code\n",
    "\n",
    "def get_content(url):\n",
    "    try:\n",
    "        r = get(url)\n",
    "#         print(r.text)\n",
    "#         soup = BeautifulSoup(r.content, 'html.parser')\n",
    "        text = r.text \n",
    "    except Exception as e:\n",
    "        print(e)\n",
    "        text = \"\"  # probably bad domain name\n",
    "    \n",
    "    return text\n",
    "\n",
    "\n",
    "def substitute_de_to_th(de_url):\n",
    "    pattern = re.compile(r'\\bde\\b')\n",
    "\n",
    "    n = len(pattern.findall(de_url))\n",
    "    if n == 1:\n",
    "\n",
    "        th_url = pattern.sub(\"th\", de_url)\n",
    "        return th_url\n",
    "    else:\n",
    "        return None"
   ]
  },
  {
   "cell_type": "markdown",
   "metadata": {},
   "source": [
    "### Find domains extension statistics"
   ]
  },
  {
   "cell_type": "code",
   "execution_count": null,
   "metadata": {},
   "outputs": [],
   "source": [
    "\n",
    "urlparse(url)\n",
    "\n"
   ]
  },
  {
   "cell_type": "markdown",
   "metadata": {},
   "source": [
    "### Find which domains fall in \\bde\\b pattern"
   ]
  },
  {
   "cell_type": "code",
   "execution_count": 75,
   "metadata": {},
   "outputs": [
    {
     "data": {
      "text/plain": [
       "Counter({0: 17231,\n",
       "         1: 28381,\n",
       "         2: 4200,\n",
       "         3: 147,\n",
       "         4: 19,\n",
       "         6: 3,\n",
       "         5: 7,\n",
       "         114: 1,\n",
       "         8: 4,\n",
       "         9: 1,\n",
       "         18: 1,\n",
       "         24: 1,\n",
       "         28: 1,\n",
       "         33: 1,\n",
       "         111: 1,\n",
       "         13: 1})"
      ]
     },
     "execution_count": 75,
     "metadata": {},
     "output_type": "execute_result"
    }
   ],
   "source": [
    "# มีความหลากหลายใน url format จริงๆ สงสัยต้องไปดู code เฉพาะของเขาแล้วมั้ง น่าจะมี handcraft เยอะอยู่\n",
    "# ดู en ไปแล้ว ดู mt บ้าง\n",
    "PATTERN_DE = re.compile(r'\\bde\\b')\n",
    "\n",
    "cnt = Counter()\n",
    "\n",
    "res = []\n",
    "\n",
    "to_substitute_urls = []\n",
    "\n",
    "for domain, urls in dataset['de'].items():\n",
    "    n = len(PATTERN_DE.findall(urls[0]))\n",
    "    if n == 0:\n",
    "        res.append(urls[0])\n",
    "        to_substitute_urls((domain, urls[0]))\n",
    "    cnt[n] += 1\n",
    "cnt"
   ]
  },
  {
   "cell_type": "code",
   "execution_count": null,
   "metadata": {},
   "outputs": [],
   "source": []
  },
  {
   "cell_type": "code",
   "execution_count": null,
   "metadata": {},
   "outputs": [],
   "source": [
    "## Send http HEAD Request to that modified URLs ,"
   ]
  },
  {
   "cell_type": "markdown",
   "metadata": {},
   "source": [
    "### 3) Substitute /de/ as /th/, call a HTTP HEAD request and check returned HTTP[link text](https:// [link text](https://)) staus\n"
   ]
  },
  {
   "cell_type": "code",
   "execution_count": 76,
   "metadata": {},
   "outputs": [
    {
     "data": {
      "application/vnd.jupyter.widget-view+json": {
       "model_id": "1202cbd946ee4ff0b6578d28170483a3",
       "version_major": 2,
       "version_minor": 0
      },
      "text/plain": [
       "HBox(children=(IntProgress(value=0, max=50000), HTML(value='')))"
      ]
     },
     "metadata": {},
     "output_type": "display_data"
    },
    {
     "name": "stdout",
     "output_type": "stream",
     "text": [
      "{'status': [200], 'th_url': ['http://www.chaletino.com/th/Spanien/El-Gastor-6838/House-in-El-Gastor-Cadiz-102849-55851/']}\n",
      "{'status': [200], 'th_url': ['https://2fish.co/th/church/does-my-church-really-matter/']}\n",
      "{'status': [200], 'th_url': ['http://www.oil-painting-online.com/th/expressionism-oil-painting/li-shan-oil-painting-art.html']}\n",
      "{'status': [200], 'th_url': ['http://www.bol-brac.eu/th/suchen.html?ponuda=5.10.11&mjesto=Bol']}\n",
      "{'status': [200], 'th_url': ['https://www.camping.fr/th/annuaire/France/Midi-Pyrenees.html']}\n",
      "{'status': [200], 'th_url': ['http://www.capetownhoteldesk.com/hotel/148076-place-on-the-bay-cape-town.th.html']}\n",
      "{'status': [200], 'th_url': ['http://www.bedzzle.it/th/bed-and-breakfast/la-casa-di-ulisse-livorno-toskana/495']}\n",
      "{'status': [200], 'th_url': ['http://chromebygoogle.net/th/tag/google-january/']}\n",
      "{'status': [200], 'th_url': ['http://th.m-rollformingmachine.com/productimage/29413494.html']}\n",
      "{'status': [200], 'th_url': ['http://www.myischia.it/th/tag/frittata-di-spaghetti/feed/']}\n",
      "{'status': [200], 'th_url': ['http://pecka.krkonose-ubytovani.eu/th/ferienhaus-pavel.html']}\n",
      "{'status': [200], 'th_url': ['http://www.blueisme.com/2018/09/page/3/?lang=th']}\n",
      "{'status': [200], 'th_url': ['http://campingsdeasturias.es/blog/?feed=rss2&cat=8&lang=th']}\n",
      "{'status': [200], 'th_url': ['http://www.magyarszallashelykeresok.hu/index.php?menuid=71&id=2977&lang=th']}\n",
      "{'status': [200], 'th_url': ['http://www.krk-baska.eu/th/vrbnik/5375-vrbnik-ferienwohnungen-l.html']}\n",
      "{'status': [200], 'th_url': ['https://www.sedak.com/th/anwendungen/referenzen/fassadenglas-haus-der-europaeischen-geschichte/']}\n",
      "{'status': [200], 'th_url': ['http://dimosvolos.gr/15242/?p=885&lang=th']}\n",
      "{'status': [200], 'th_url': ['http://praha-hotely.eu/th/detail-ubytovani/hotel/hotel-continental-marianske-lazne/1043.html']}\n",
      "{'status': [200], 'th_url': ['http://www.miniclassic.pl/blog/2014/07/01/reims/?lang=th']}\n",
      "{'status': [200], 'th_url': ['http://www.kosrealestate.gr/pdetails.asp?lng=th&purpose=1&category=3&p=7&id=%CE%9A%2D986&requestpage=search.asp']}\n",
      "{'status': [200], 'th_url': ['http://www.baleareslive.com/videos.php?page=3&olb=DESC&colb=id_video&l=th']}\n",
      "{'status': [200], 'th_url': ['http://www.orvas-hotels.com/th/anu/orvas-hotels/villa-mama/p-page-facilities.html']}\n",
      "{'status': [200], 'th_url': ['http://www.parisdakar.it/th/2017/07/']}\n",
      "{'status': [200], 'th_url': ['http://www.culturalpolicies.net/web/liechtenstein.php?aid=23&language=th']}\n",
      "{'status': [200], 'th_url': ['http://lymphomasurvival.com/topic-index/?lang=th']}\n",
      "{'status': [200], 'th_url': ['http://s-tlk.org/index.php?id=3&lang=th&site=aap-wg']}\n",
      "{'status': [200], 'th_url': ['http://rulers-of-nations.com/simulation.php?langue=th']}\n",
      "{'status': [200], 'th_url': ['http://www.aerasec.biz/security/index.html?id=ae-200201-064&lang=th']}\n",
      "{'status': [200], 'th_url': ['https://www.radurlaub.com/rad-schiff/holland/angebot/detail/3027/north-holland-th-holland.html']}\n",
      "{'status': [200], 'th_url': ['http://hotel-d.com/th/south-africa/cape-town/cape-town-hotels.html']}\n",
      "{'status': [200], 'th_url': ['http://www.pargovillas.com/detail.php?imprimir=1&id=107851&op=&idi=th']}\n",
      "{'status': [200], 'th_url': ['http://lavidaenbici.com/th/bicicletas-en-el-tren/?replytocom=2592']}\n",
      "{'status': [200], 'th_url': ['http://www.marodrigues.com/th/apartment-t3-vale-lagar-portimao-kitchen-double-glazing-terrace-barbecue-air-conditioning-alarm+1000012446.html']}\n",
      "{'status': [200], 'th_url': ['https://golfauvietnam.com/orient-golf/?lang=th']}\n",
      "{'status': [200], 'th_url': ['http://apartment-prague.net/th/detail-ubytovani/hotel/hotel-vyhlidka-luhacovice/1535.html?laz=2914']}\n",
      "{'status': [200], 'th_url': ['http://www.hug-luzern.ch/th/home/']}\n",
      "{'status': [200], 'th_url': ['http://www.lionhotelborovets.com/th/Zimmer-Unterbringung.html']}\n",
      "{'status': [200], 'th_url': ['http://www.romeguide.it/index.php?pag=schedashop&ID=2259&lang=th&tra=']}\n",
      "{'status': [200], 'th_url': ['http://svdcuria.org/public/jpic/water/th.htm']}\n",
      "{'status': [200], 'th_url': ['http://arsitalia.it/blog/2016/09/16/elettrosmogarpa-docet/?lang=th']}\n",
      "{'status': [200], 'th_url': ['http://hotel-bristol.ch/faq.asp?lng=th&id=Restaurant']}\n",
      "{'status': [200], 'th_url': ['http://www.kinotv.info/page/bio.php?namecode=36086&l=th']}\n",
      "{'status': [200], 'th_url': ['http://www.adolf-cluss.org/index.php?sub=3.5.47&lang=th&content=h&topSub=washington']}\n",
      "{'status': [200], 'th_url': ['http://nationalspacecentre.eu/model-students/?lang=th']}\n",
      "{'status': [200], 'th_url': ['http://webenergie.ch/actions/brico_wiki/examineGuide.php?bricoID=125&lang=th']}\n",
      "{'status': [200], 'th_url': ['https://www.masmusculo.com/th/raw-physique/omega-3-6-9-200-softgel-7322.html']}\n",
      "{'status': [200], 'th_url': ['http://th.yourwebdoc.com/anxiety.php']}\n",
      "{'status': [200], 'th_url': ['http://czech-republic.us/th/detail-ubytovani/berghotel/hotel-lesna-stara-lesna/742.html']}\n",
      "{'status': [200], 'th_url': ['http://www.milanoincontrashaolin.net/arte/architettura/?lang=th']}\n",
      "{'status': [200], 'th_url': ['http://www.tredy.com/th/residenz/sizilien/residence-valentina-s664.htm']}\n",
      "{'status': [200], 'th_url': ['https://europrint-bg.com/th/feed/']}\n",
      "{'status': [200], 'th_url': ['http://blog.feerik.com/index.php/2012/10/17/5309-itcg-cervus/?lang=th']}\n",
      "{'status': [200], 'th_url': ['http://www.realt5000.com.ua/news/utf/th/2737131/']}\n",
      "{'status': [200], 'th_url': ['http://www.pensionhotel.dk/hotel--146531-i-grappoli-sessa.html?clang=th']}\n",
      "{'status': [200], 'th_url': ['http://www.aasapuhkemajad.eu/index.php?lng=th']}\n",
      "{'status': [200], 'th_url': ['http://extraenergy.org/main.php?language=th&category=events&subcateg=98&id=3010']}\n",
      "{'status': [200], 'th_url': ['http://ukraine.admission.center/th/poltava/']}\n",
      "{'status': [200], 'th_url': ['http://www.ger-lin.com/index.php?content=Qingdaos_Geschichte&lang=th']}\n",
      "{'status': [200], 'th_url': ['http://slovensko-ubytovani.cz/th/detail-ubytovani/hotel/hotel-thermal-varga-velky-meder/723.html?laz=2483']}\n",
      "{'status': [200], 'th_url': ['http://www.ec-patr.org/docdisplay.php?lang=en&id=1873&tla=th']}\n",
      "{'status': [200], 'th_url': ['http://musees-bourgogne.org/popup/musee_bourgogne_historique.php?lg=th&id_musee=45&info=descriptif_detail']}\n",
      "{'status': [200], 'th_url': ['http://eurobolic.com/index.php?main_page=index&cPath=83_85&page=1&sort=2d&language=th']}\n",
      "{'status': [200], 'th_url': ['http://moreta-touristagency.hr/th/accommodation-biograd/feed/']}\n",
      "{'status': [200], 'th_url': ['http://www.croatiabooking.net/th/hotels/18/Villa-Irming.html']}\n",
      "{'status': [200], 'th_url': ['http://www.amacalabria.org/index.php?option=com_content&task=view&id=131&Itemid=286&lang=th']}\n",
      "{'status': [200], 'th_url': ['https://gaytubelive.com/signup/?langchoice=th&smid=49565679']}\n",
      "{'status': [200], 'th_url': ['http://fit.myberryen.com/th/produkte/drinks/index.html']}\n",
      "{'status': [200], 'th_url': ['https://www.mirandah.com/team/gladys-mirandah/?lang=th']}\n",
      "{'status': [200], 'th_url': ['http://www.myrro.gr/th/basis%c3%b6ls/base-oil-avocado-organic-432.html?']}\n",
      "{'status': [200], 'th_url': ['http://www.welcometoparis.it/06/Ristoranti/Alcazar/alcazar2.th.html']}\n",
      "{'status': [200], 'th_url': ['http://www.ukrainehotelsonline.com/th/Travel-Uman-Sophia-Park/district-Sophia-Park-Uman.html']}\n",
      "{'status': [200], 'th_url': ['http://www.omis-riviera.eu/th/duce/737-duce-ferienwohnungen.html']}\n",
      "{'status': [200], 'th_url': ['http://www.discountlinksoflondon.top/th/links-of-london-charme-doppeldeckerbus-anh%c3%a4nger-p-171.html']}\n",
      "{'status': [200], 'th_url': ['http://abalnearios.com/th/hotelfragadoeume/index.htm']}\n",
      "{'status': [200], 'th_url': ['http://www.brsteel.org/th/welded-pipe/lsaw-api-5l-steel-line-pipe/']}\n",
      "{'status': [200], 'th_url': ['https://www.ibbnetzwerk-gmbh.com/th/veranstaltungen/rueckblick/datum/2014/01/17/weltmaerkte-fuer-nahrungsmittel-klimawandel-groesserer-preistreiber-als-die-bioenergie/']}\n",
      "{'status': [200], 'th_url': ['http://www.sanfranciscohoteldesk.com/hotel/187422-hotel-union-square-san-francisco-san-francisco.th.html']}\n",
      "{'status': [200], 'th_url': ['https://www.fsx-download.com/product_info.php?products_id=357&language=th']}\n",
      "{'status': [200], 'th_url': ['http://www.greenholiday.it/th/appartamento-montecerboli_439.htm']}\n",
      "{'status': [200], 'th_url': ['http://balearsculturaltour.net/fichapersonaje.php?idioma=th&pag=9&cod1=9&id=6']}\n",
      "{'status': [200], 'th_url': ['http://www.pensionhotel.it/hotel--145465-lugano-dante-center-swiss-quality-hotel.html?clang=th']}\n",
      "{'status': [200], 'th_url': ['http://www.afrykawakacje.com/th/rpa-park-kruger.html']}\n",
      "{'status': [200], 'th_url': ['https://www.lavilleggiatura.it/cookie-policy/?lang=th']}\n",
      "{'status': [200], 'th_url': ['http://www.omnibus.nl/algemene_voorwaarden.php?taalkeuze=th']}\n",
      "{'status': [200], 'th_url': ['http://alevante.com/th/apartamentoscarlosvbenidorm/index.htm']}\n",
      "{'status': [200], 'th_url': ['http://www.kadoideenederland.nl/th/kuechentextilien/kitchen-schuerzen/']}\n",
      "{'status': [200], 'th_url': ['http://www.epomm.eu/newsletter/v2/eupdate.php?nl=0716&lan=th']}\n",
      "{'status': [200], 'th_url': ['http://garbno.com.pl/content/index.php?lang=th&page=historia']}\n",
      "{'status': [200], 'th_url': ['http://www.elsibaritasevillano.es/sol-y-sombra-una-vuelta-al-ruedo-en-triana/?tpedit=1&lang=th']}\n",
      "{'status': [200], 'th_url': ['http://rutlandjezek.com/th/menu/12/aktualitaten/clanek-153-anderungen-im-tschechischen-gesellschaftsrecht-im-zuge-des-neuen-tschechischen-kapitalgesellschaftsgesetzes-gesetzes-uber-korporationen-in-der-tschechischen-republik-datum-des-inkrafttretens-1-1-2014-/']}\n",
      "{'status': [200], 'th_url': ['http://www.cyprwakacje.com/th/february.html']}\n",
      "{'status': [200], 'th_url': ['https://www.falesia.it/th/crag/642/roana.html']}\n",
      "{'status': [200], 'th_url': ['http://www.wochenklausur.at/projekt.php?lang=th&id=10']}\n",
      "{'status': [200], 'th_url': ['http://chanvre-info.ch/info/th/article5371.prn.html']}\n",
      "{'status': [200], 'th_url': ['https://www.dynadot.com/th/domain/quebec.html']}\n",
      "{'status': [200], 'th_url': ['http://www.misteridalmondo.it/guerra-fredda/incidente-vela-esplosione-nucleare-o-meteorite/?lang=th']}\n",
      "{'status': [200], 'th_url': ['http://igc-online.net/team.php?sprache=th']}\n",
      "{'status': [200], 'th_url': ['http://lyceumclub.org/index.php?option=com_content&view=article&id=112:geschichte-der-lyceum-clubs-der-schweiz&catid=12130:the-origins-of-the-swiss-lyceum-clubs&Itemid=254&lang=th']}\n",
      "{'status': [200], 'th_url': ['http://www.germanplaces.com/th/pensionen-wittenberg/pension-schwanenteich-wittenberg.html']}\n",
      "{'status': [200], 'th_url': ['http://agnekretnine.com/archivefe4d.html?lang=th&textID=489&broj=23&page=Archive']}\n",
      "{'status': [200], 'th_url': ['http://wwekochem.com/,3,th,news,3,1,4.html']}\n",
      "{'status': [200], 'th_url': ['http://www.hkregion.cz/redakce/index.php?xuser=&lanG=th&dr=100424']}\n",
      "{'status': [200], 'th_url': ['http://www.samokov-borovets.com/th/Anlagen-Hauptfakten.html']}\n",
      "{'status': [200], 'th_url': ['http://www.christianlouboutinshoesbottom.com/th/christian-louboutin-pumps-ron-ron-100mm-p-1087.html']}\n",
      "{'status': [200], 'th_url': ['http://vina-poletti.com/villa-bellavista-poletti---th.html']}\n",
      "{'status': [200], 'th_url': ['http://www.solublecoffeeb2b.com/th/3-in-1-coffee.html']}\n",
      "{'status': [200], 'th_url': ['http://www.turismo.garfagnana.eu/th/dormire/tipologia:Case-vacanza/Miravalle-1.html']}\n",
      "{'status': [200], 'th_url': ['http://aubonheurduparc.com/th/kontakt/anfahrt']}\n",
      "{'status': [200], 'th_url': ['https://www.aqualuxhotel.com/privacy-policy/?lang=th']}\n",
      "{'status': [200], 'th_url': ['https://www.pozarem.com/th/loutra-pozar/']}\n",
      "{'status': [200], 'th_url': ['http://mirafloresbcc.com/show_cat_det.php?sid=th&cid=']}\n",
      "{'status': [200], 'th_url': ['https://recover-keys.com/th/bussiness.html']}\n",
      "{'status': [200], 'th_url': ['http://www.residencelepontina.it/galleria-vittorio-emanuele-ii/?lang=th']}\n",
      "{'status': [200], 'th_url': ['http://www.xd-cinema.com/th/analytical-comparison-3d-4d-5d-6d-7d-9d-truck-mobile-cinema/']}\n",
      "{'status': [200], 'th_url': ['http://www.supetar-brac.eu/th/supetar/1671-supetar-ferienwohnungen.html']}\n",
      "{'status': [200], 'th_url': ['http://pousadanoanoa.com/index.php?option=com_content&view=article&id=1&Itemid=63&lang=th']}\n",
      "{'status': [200], 'th_url': ['http://swissracingteam.ch/th/news/100-erneute-anpassungen-bei-der-balance-of-performance-brachten-keine-vorteile-in-suedamerika']}\n",
      "{'status': [200], 'th_url': ['https://www.glashobby-webshop.nl/index.php?action=page&group_id=10000385&lang=th']}\n",
      "{'status': [200], 'th_url': ['http://www.carry-trading.com/forex/th/basic-forex-trading-1-2.html']}\n",
      "{'status': [200], 'th_url': ['http://apartmani-perla.eu/th/uber-vir/']}\n",
      "{'status': [200], 'th_url': ['http://www.daumier-register.org/werklist.php?lingua=th&search=intro&tech=litho']}\n",
      "{'status': [200], 'th_url': ['http://euro-truck.biz/th/Windy-standardowe-do-samochodow-ciezarowych-z-dolnym--sprzegiem--o-udzwigu-1500-2000-kg-DLB-1500---47-L-rok-2009,783p.html']}\n",
      "{'status': [200], 'th_url': ['http://www.eba-avocats.com/aktuelle-rechtsprechung-wettbewerb-und-vertrieb-der-plotzliche-abbruch-von-geschaftsbeziehungen-und-die-festlegung-der-kundigungsfrist/?lang=th']}\n",
      "{'status': [200], 'th_url': ['http://wloe.org/WLOE-th/themen/globalisierung/neembericht.html']}\n",
      "{'status': [200], 'th_url': ['http://www.desigbarcelona.com/th/ferienwohnungen/barcelona/borne/wohnung_argenteria-50/']}\n",
      "{'status': [200], 'th_url': ['http://www.kempostrov.cz/th/sluzby/']}\n",
      "{'status': [200], 'th_url': ['http://goodfamilyhotels.com/de7/hotel-fur-familien-mit-kindern-the-eurasia-hotel-chiang-mai-th.php']}\n",
      "{'status': [200], 'th_url': ['http://www.pensionhotel.pl/hotel--285297-four-seasons-hotel-gresham-palace-budapest-budapeszt.html?clang=th']}\n",
      "{'status': [200], 'th_url': ['http://www.quadranteeuropa.it/th/consorziozai/ausschreibungen-und-rechtliche-hinweise/14-ausschreibungen-und-rechtliche-hinweise/79-lieferanten-akkreditierung.html']}\n",
      "{'status': [200], 'th_url': ['http://www.cssf.lu/th/verbraucher/verbraucherinformationen/recht-auf-ein-konto/']}\n",
      "{'status': [200], 'th_url': ['http://www.tutschku.com/sieben-stufen-post/?lang=th']}\n",
      "{'status': [200], 'th_url': ['http://www.blogprinvizor.ro/2012/06/?lang=th']}\n",
      "{'status': [200], 'th_url': ['https://www.learnthat.org/th/pages/view/playa-viva-mexico-first-prize-for-studying.html']}\n",
      "{'status': [200], 'th_url': ['https://www.hotel-podhrad.cz/th/firmenveranstaltungen/']}\n",
      "{'status': [200], 'th_url': ['http://kiralygabor.eu/th/nachrichten/torparade-in-england.html?page=30']}\n",
      "{'status': [200], 'th_url': ['http://www.paradise-properties.com/th/']}\n",
      "{'status': [200], 'th_url': ['http://bwachik.com/hotel-guadeloupe/?lang=th']}\n",
      "{'status': [200], 'th_url': ['http://www.ronniet.com/th/uebermich/page3.htm']}\n",
      "{'status': [200], 'th_url': ['http://www.jrtrigo.es/th/cuadros-con-figura-humana-27/']}\n",
      "{'status': [200], 'th_url': ['http://www.brela-riviera.eu/th/brela/8103-brela-ferienwohnungen.html']}\n",
      "{'status': [200], 'th_url': ['https://www.vilavitapannonia.at/th/ueber-uns/datenschutz.html']}\n",
      "{'status': [200], 'th_url': ['https://www.noluckneeded.com/blog/th/category/keine-anzahlung-kasino-bonus-codes/feed/']}\n",
      "{'status': [200], 'th_url': ['http://hk.any-video-converter.com/th/dvd-to-cell-phone.php']}\n",
      "{'status': [200], 'th_url': ['http://turiquintas.net/index.php?lang=th&sec=22&item=64']}\n",
      "{'status': [200], 'th_url': ['https://gsuite.google.se/intl/th/terms/sla.html']}\n",
      "{'status': [200], 'th_url': ['http://prumyslovepamatky.cz/th/seiten/1118.html']}\n",
      "{'status': [200], 'th_url': ['http://www.pickupsplus.com/th/']}\n",
      "{'status': [200], 'th_url': ['http://www.greenethiopia.org/cms/th/content/news/single-news/article/fernsehbeitrag-tele-france-3-franzoesisch/']}\n",
      "{'status': [200], 'th_url': ['http://viettouring.vn/index.php?option=com_content&view=article&id=230:kon-tum&catid=50:di-tich-danh-thang-viet-nam&Itemid=94&lang=th']}\n",
      "{'status': [200], 'th_url': ['https://espanaencasa.com/th/spirituosen/454-tequila-jalisco-gold-70-cl-35.html']}\n",
      "{'status': [200], 'th_url': ['http://dalamanrealestates.com/mod/gallery/view.php?lang=th&id=6&title=Mugla-Marmaris']}\n",
      "{'status': [200], 'th_url': ['https://crushtheinfosecexams.com/cissp-online-training/?cc=2406&lang=th']}\n",
      "{'status': [200], 'th_url': ['http://circusclub.eu/2017/april/?setlang=th']}\n",
      "{'status': [200], 'th_url': ['http://chede.org/2014/?lang=th']}\n",
      "{'status': [200], 'th_url': ['http://olympicbike.com/th/seite-drucken.html?pid=44']}\n",
      "{'status': [200], 'th_url': ['http://antan.pl/th/news-Neues-Projekt-von-Antan-Developm-97.html']}\n",
      "{'status': [200], 'th_url': ['http://www.calbournewatermill.co.uk/about-us/?lang=th']}\n",
      "{'status': [200], 'th_url': ['https://www.privatpetr.cz/th/ubytovani/']}\n",
      "{'status': [200], 'th_url': ['http://www.quadtechworld.com/th/news/pressroom/archive/pr1121.asp']}\n",
      "{'status': [200], 'th_url': ['http://cestovnyinformator.sk/th/878/kupele-patince.html']}\n",
      "{'status': [200], 'th_url': ['http://novar.pl/files/lib_doc/realisation.php?Lang=th']}\n",
      "{'status': [200], 'th_url': ['http://refugeetentaction.net/index.php?option=com_content&view=article&id=232:antwort-auf-kritiken-bezueglich-des-refugee-kongresses-in-muenchen&catid=2:uncategorised&Itemid=117&lang=th']}\n",
      "{'status': [200], 'th_url': ['http://ifjc.org/th/node/20059']}\n",
      "{'status': [200], 'th_url': ['http://sacralart.com.ua/th/church/detail.php?ID=491']}\n",
      "{'status': [200], 'th_url': ['http://www.hinternacional.com/calidad.php?lang=th']}\n",
      "{'status': [200], 'th_url': ['http://www.ferieforum.dk/printhouse.php?h_id=3396&lang=th']}\n",
      "{'status': [200], 'th_url': ['http://www.rab-rab.eu/th/banjol/banjol-hauser-l.html']}\n",
      "{'status': [200], 'th_url': ['http://marxismus-online.eu/display/dyn/th/xeb1fafe5-f140-463a-9c17-5ab97ed9f3a6/content.html']}\n",
      "{'status': [200], 'th_url': ['http://aupair-world-agency.com/th/index.html']}\n",
      "{'status': [200], 'th_url': ['http://badi.hr/rooms/family-room-22-prs/?lang=th']}\n",
      "{'status': [200], 'th_url': ['http://hotel-prag.org/th/detail-ubytovani/pension/penzion-pohoda-zazriva/795.html']}\n",
      "{'status': [200], 'th_url': ['http://tiszataviokocentrum.hu/th/informacio-3/anfahrt.html']}\n",
      "{'status': [200], 'th_url': ['http://www.verztec.com/index.php?option=com_content&view=article&id=150&Itemid=0&lang=th']}\n",
      "{'status': [200], 'th_url': ['http://www.sanat.tv/th/plants/malpighia-glabra-punicifolia.html']}\n",
      "{'status': [200], 'th_url': ['http://www.noell.cz/eshop/index.php?cnt=karta&lang=th&idz=1539']}\n",
      "{'status': [200], 'th_url': ['http://www.casinoeurope-online.com/th/backgammon.html']}\n",
      "{'status': [200], 'th_url': ['http://metior.hr/th/prodaja/kuca/obiteljske-kuce-Omis-Pisak_139.html']}\n",
      "{'status': [200], 'th_url': ['http://www.scarm.info/index.php?l=th&page=help&topic=28']}\n",
      "{'status': [200], 'th_url': ['http://hostingwebsitecoupons.org/th/hostgator/']}\n",
      "\n"
     ]
    }
   ],
   "source": [
    "http_status_de = {}\n",
    "counter = 0\n",
    "for (domain, url) in tqdm(to_substitute_urls):\n",
    "#     urls = urls[:1]\n",
    "    urls_th = substitute_de_to_th(url)\n",
    "#     urls_th = list(filter(lambda x: x != None, urls_th))\n",
    "    \n",
    "    http_status_de[domain] = { }\n",
    "    http_status_de[domain]['status'] = get_status(url)\n",
    "    http_status_de[domain]['th_url'] = url\n",
    "    \n",
    "#     if counter == 100:\n",
    "#         break\n",
    "\n",
    "    if http_status_de[domain]['status'] == 200:\n",
    "        \n",
    "        # Detect lang\n",
    "#         print('urls_th[0]', urls_th[0])\n",
    "#         content = get_content(urls_th[0])\n",
    "        \n",
    "#         if content == '':\n",
    "#             http_status_de[domain]['lang_id'] = None\n",
    "#         else:\n",
    "#             print(content[:100])\n",
    "#             lang = langdetect.detect(content)\n",
    "#             print(\"Language detect:\", lang)\n",
    "#             http_status_de[domain]['lang_id'] = lang\n",
    "\n",
    "        print(http_status_de[domain])\n",
    "\n",
    "    counter += 1\n",
    "    # break\n",
    "\n"
   ]
  },
  {
   "cell_type": "code",
   "execution_count": 80,
   "metadata": {},
   "outputs": [],
   "source": [
    "cnt = Counter()\n",
    "for item, v in http_status_de.items():\n",
    "#     if v['status'][0] == 200:\n",
    "    cnt[v['status'][0]] += 1"
   ]
  },
  {
   "cell_type": "code",
   "execution_count": 81,
   "metadata": {},
   "outputs": [
    {
     "data": {
      "text/plain": [
       "Counter({0: 26999,\n",
       "         301: 629,\n",
       "         500: 29,\n",
       "         200: 179,\n",
       "         302: 131,\n",
       "         404: 343,\n",
       "         403: 29,\n",
       "         406: 23,\n",
       "         521: 2,\n",
       "         307: 2,\n",
       "         410: 2,\n",
       "         424: 1,\n",
       "         409: 1,\n",
       "         308: 1,\n",
       "         503: 3,\n",
       "         402: 1,\n",
       "         303: 5,\n",
       "         412: 1})"
      ]
     },
     "execution_count": 81,
     "metadata": {},
     "output_type": "execute_result"
    }
   ],
   "source": [
    "cnt"
   ]
  },
  {
   "cell_type": "code",
   "execution_count": null,
   "metadata": {},
   "outputs": [],
   "source": []
  },
  {
   "cell_type": "markdown",
   "metadata": {},
   "source": [
    "### Examples:\n",
    "\n",
    "- https://2fish.co/th/church/does-my-church-really-matter/\n",
    "\n",
    "- http://www.oil-painting-online.com/th/expressionism-oil-painting/li-shan-oil-painting-art.html\n",
    "\n",
    "- https://golfauvietnam.com/orient-golf/?lang=th\n",
    "\n",
    "- https://gsuite.google.se/intl/th/terms/sla.html\n",
    "\n",
    "- http://www.xd-cinema.com/th/analytical-comparison-3d-4d-5d-6d-7d-9d-truck-mobile-cinema/"
   ]
  },
  {
   "cell_type": "code",
   "execution_count": null,
   "metadata": {},
   "outputs": [],
   "source": []
  },
  {
   "cell_type": "markdown",
   "metadata": {},
   "source": [
    "## Detect Language"
   ]
  },
  {
   "cell_type": "code",
   "execution_count": 83,
   "metadata": {},
   "outputs": [],
   "source": [
    "def fetch_content(url):\n",
    "    \"\"\"fetch HTML content (excluded HTML <script> tags)\"\"\"\n",
    "    pass\n",
    "def detect_language(content):\n",
    "    \"\"\"return language id\"\"\"\n",
    "    pass"
   ]
  },
  {
   "cell_type": "code",
   "execution_count": 84,
   "metadata": {},
   "outputs": [],
   "source": [
    "cnt = Counter()\n",
    "for item, v in http_status_de.items():\n",
    "    if v['status'][0] == 200:\n",
    "        url = v['th_url'][0]\n",
    "        \n",
    "        content = fetch_content(url)\n",
    "        \n",
    "        "
   ]
  },
  {
   "cell_type": "code",
   "execution_count": null,
   "metadata": {},
   "outputs": [],
   "source": []
  }
 ],
 "metadata": {
  "kernelspec": {
   "display_name": "Python 3",
   "language": "python",
   "name": "python3"
  },
  "language_info": {
   "codemirror_mode": {
    "name": "ipython",
    "version": 3
   },
   "file_extension": ".py",
   "mimetype": "text/x-python",
   "name": "python",
   "nbconvert_exporter": "python",
   "pygments_lexer": "ipython3",
   "version": "3.7.0"
  }
 },
 "nbformat": 4,
 "nbformat_minor": 4
}
