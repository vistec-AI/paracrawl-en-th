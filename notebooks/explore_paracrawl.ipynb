{
 "cells": [
  {
   "cell_type": "code",
   "execution_count": 87,
   "metadata": {},
   "outputs": [],
   "source": [
    "# !pip install -q selenium lxml tldextract\n",
    "!pip install -q fake_useragent"
   ]
  },
  {
   "cell_type": "code",
   "execution_count": 18,
   "metadata": {},
   "outputs": [],
   "source": [
    "import re, os\n",
    "import pandas as pd\n",
    "from bs4 import BeautifulSoup\n",
    "from pprint import pprint\n",
    "from collections import Counter, defaultdict\n",
    "from tqdm.auto import tqdm\n",
    "from urllib.parse import urlparse\n",
    "from requests import get, head\n",
    "from random import sample, choice, seed\n",
    "from time import sleep\n",
    "from selenium import webdriver\n",
    "import json\n",
    "from xmlr import xmlparse, xmliter, XMLParsingMethods\n",
    "from urllib.parse import urlparse\n",
    "from multiprocessing import Pool\n",
    "from functools import partial \n",
    "import requests\n",
    "from requests.adapters import HTTPAdapter\n",
    "from requests.packages.urllib3.util.retry import Retry\n",
    "import threading\n",
    "from selenium import webdriver\n",
    "# dir(webdriver)\n",
    "from fake_useragent import UserAgent\n",
    "from selenium.webdriver.common.desired_capabilities import DesiredCapabilities\n",
    "from queue import Queue\n",
    "\n",
    "PATTERN_DOMAIN = '(?:http.*://)?(?P<host>[^:/ ]+).?(?P<port>[0-9]*).*'\n",
    "\n",
    "import tldextract\n",
    "import langdetect\n",
    "import json\n",
    "from xml.etree import ElementTree\n",
    "# import lxml\n",
    "\n",
    "import sys\n",
    "sys.path.append('..')\n",
    "import utils"
   ]
  },
  {
   "cell_type": "code",
   "execution_count": 19,
   "metadata": {},
   "outputs": [],
   "source": [
    "def extract_suffix(url):\n",
    "    obj = tldextract.extract(url)\n",
    "    return obj.suffix\n"
   ]
  },
  {
   "cell_type": "code",
   "execution_count": 20,
   "metadata": {},
   "outputs": [
    {
     "name": "stdout",
     "output_type": "stream",
     "text": [
      "com\n",
      "co.th\n",
      "com\n",
      "com\n"
     ]
    }
   ],
   "source": [
    "# test\n",
    "def test_extract_suffix(): \n",
    "    actual = extract_suffix(\"google.com\")\n",
    "    print(actual)\n",
    "    actual = extract_suffix(\"www.google.co.th\")\n",
    "    print(actual)\n",
    "    actual = extract_suffix(\"www.google.com:433\")\n",
    "    print(actual)\n",
    "    actual = extract_suffix(\"https://www.google.com:433\")\n",
    "    print(actual)\n",
    "test_extract_suffix()"
   ]
  },
  {
   "cell_type": "code",
   "execution_count": 21,
   "metadata": {},
   "outputs": [],
   "source": [
    "def extract_domain(url):\n",
    "    # t = urlparse(url)\n",
    "    ext = tldextract.extract(url)\n",
    "    return '.'.join(part for part in ext[:3] if part)\n"
   ]
  },
  {
   "cell_type": "code",
   "execution_count": 22,
   "metadata": {},
   "outputs": [
    {
     "name": "stdout",
     "output_type": "stream",
     "text": [
      "google.com\n",
      "www.google.com\n",
      "www.google.com\n",
      "www.google.com\n"
     ]
    }
   ],
   "source": [
    "# test\n",
    "def test_extract_domain(): \n",
    "    actual = extract_domain(\"google.com\")\n",
    "    print(actual)\n",
    "    actual = extract_domain(\"www.google.com\")\n",
    "    print(actual)\n",
    "    actual = extract_domain(\"www.google.com:433\")\n",
    "    print(actual)\n",
    "    actual = extract_domain(\"https://www.google.com:433\")\n",
    "    print(actual)\n",
    "test_extract_domain()"
   ]
  },
  {
   "cell_type": "code",
   "execution_count": 23,
   "metadata": {},
   "outputs": [],
   "source": [
    "# dataset = {\n",
    "#     \"en\": defaultdict(lambda: []),\n",
    "#     \"de\": defaultdict(lambda: [])\n",
    "# }"
   ]
  },
  {
   "cell_type": "code",
   "execution_count": 24,
   "metadata": {},
   "outputs": [],
   "source": [
    "# counter = Counter()\n",
    "# with tqdm(total=204522994) as pbar_items:\n",
    "#     with tqdm(total=67977) as pbar_domains:\n",
    "\n",
    "#         for d in xmliter('../data/en-de.bicleaner07.tmx', 'tu'):\n",
    "# #             print(d)\n",
    "            \n",
    "#             counter['row_counter'] += 1\n",
    "#             en_url = d['tuv'][0]['prop']\n",
    "#             de_url = d['tuv'][1]['prop']\n",
    "\n",
    "#             # print(\"en_urls\", en_url)\n",
    "#             # print(\"de_urls\", de_url)\n",
    "\n",
    "#             if en_url == \"unknown\" or de_url == \"unknown\":\n",
    "#                 counter['unkown_url_counter'] += 1\n",
    "#                 continue\n",
    "\n",
    "#             if type(en_url) == list:\n",
    "#                 en_url = en_url[0]\n",
    "#             if type(de_url) == list:\n",
    "#                 de_url = de_url[0]\n",
    "\n",
    "#             if type(en_url) == str:\n",
    "#                 en_domain = extract_domain(en_url)\n",
    "#                 # if not en_domain in dataset['en'].keys():\n",
    "#                     # dataset['en'][en_domain] = []\n",
    "#                 # dataset['en'][en_domain].append(en_url)\n",
    "#                 # else:\n",
    "#                 if len(dataset['en'][en_domain] ) == 10:\n",
    "#                     continue\n",
    "#                 dataset['en'][en_domain].append(en_url)\n",
    "\n",
    "#             if type(de_url) == str:\n",
    "#                 de_domain = extract_domain(de_url)\n",
    "\n",
    "#                 # if not de_domain in dataset['de'].keys():\n",
    "#                 #     dataset['de'][de_domain] = []\n",
    "#                 # dataset['de'][de_domain].append(de_url)\n",
    "#                 # else:\n",
    "#                 if len(dataset['de'][de_domain]) == 10:\n",
    "#                     continue\n",
    "#                 dataset['de'][de_domain].append(de_url)\n",
    "\n",
    "\n",
    "#             if len(dataset['de'].keys()) > counter['domain_counter']:\n",
    "#                 counter['domain_counter'] += 1           \n",
    "#                 pbar_domains.update(1)\n",
    "                \n",
    "#             pbar_items.update(1)\n",
    "#             break"
   ]
  },
  {
   "cell_type": "code",
   "execution_count": 25,
   "metadata": {},
   "outputs": [],
   "source": [
    "# # Dump to JSON\n",
    "# with open('../data/en-de.domains.urls.json', 'w', encoding=\"utf-8\") as f:\n",
    "    \n",
    "#     json.dump(dataset, f, ensure_ascii=False)"
   ]
  },
  {
   "cell_type": "code",
   "execution_count": 9,
   "metadata": {},
   "outputs": [],
   "source": [
    "# list(dataset['de'].keys())[-100:]"
   ]
  },
  {
   "cell_type": "code",
   "execution_count": 53,
   "metadata": {},
   "outputs": [],
   "source": [
    "# len(set(list(dataset['de'].keys())))"
   ]
  },
  {
   "cell_type": "markdown",
   "metadata": {},
   "source": [
    "## 2. Explore\n",
    "\n"
   ]
  },
  {
   "cell_type": "code",
   "execution_count": 54,
   "metadata": {},
   "outputs": [
    {
     "name": "stdout",
     "output_type": "stream",
     "text": [
      "CPU times: user 16.8 s, sys: 30.4 s, total: 47.2 s\n",
      "Wall time: 1min\n"
     ]
    }
   ],
   "source": [
    "# Load dataset\n",
    "with open('../data/en-de.bicleaner07.json', 'r', encoding=\"utf-8\") as f:\n",
    "    \n",
    "    %time dataset = json.load(f)"
   ]
  },
  {
   "cell_type": "code",
   "execution_count": 17,
   "metadata": {},
   "outputs": [],
   "source": [
    "def get_status(url):\n",
    "    try:\n",
    "        r = head(url, timeout=5)\n",
    "        code = r.status_code\n",
    "    except:\n",
    "        code = 0  # probably bad domain name\n",
    "    return code\n",
    "\n",
    "def get_content(url):\n",
    "    try:\n",
    "        r = get(url, headers={ 'User-Agent': UserAgent().random })\n",
    "#         print(r.text)\n",
    "#         soup = BeautifulSoup(r.content, 'html.parser')\n",
    "        r.encoding = r.apparent_encoding\n",
    "        text = r.text \n",
    "    except Exception as e:\n",
    "        print(e)\n",
    "        text = \"\"  # probably bad domain name\n",
    "    \n",
    "    return text\n",
    "\n",
    "\n",
    "def substitute_de_to_th(de_url):\n",
    "    pattern = re.compile(r'\\bde\\b')\n",
    "\n",
    "    n = len(pattern.findall(de_url))\n",
    "    if n == 1:\n",
    "\n",
    "        th_url = pattern.sub(\"th\", de_url)\n",
    "        return th_url\n",
    "    else:\n",
    "        return None"
   ]
  },
  {
   "cell_type": "code",
   "execution_count": 16,
   "metadata": {},
   "outputs": [
    {
     "data": {
      "text/plain": [
       "''"
      ]
     },
     "execution_count": 16,
     "metadata": {},
     "output_type": "execute_result"
    }
   ],
   "source": [
    "# get_content('http://japanrailpass.net/th/about_jrp.html#bm_001')\n",
    "get_content('https://2fish.co/en/church/does-my-church-really-matter/')\n",
    "# get_c"
   ]
  },
  {
   "cell_type": "markdown",
   "metadata": {},
   "source": [
    "### Find unique domains (registered domain) "
   ]
  },
  {
   "cell_type": "markdown",
   "metadata": {},
   "source": [
    "[de]"
   ]
  },
  {
   "cell_type": "code",
   "execution_count": 56,
   "metadata": {},
   "outputs": [],
   "source": [
    "registered_domains = set()\n",
    "\n",
    "for domain, urls in dataset['de'].items():\n",
    "    \n",
    "    registered_domain = tldextract.extract(domain).registered_domain\n",
    "    registered_domains.add(registered_domain)    \n",
    "    \n",
    "\n",
    "for domain, urls in dataset['en'].items():\n",
    "    \n",
    "    registered_domain = tldextract.extract(domain).registered_domain\n",
    "    registered_domains.add(registered_domain)    "
   ]
  },
  {
   "cell_type": "code",
   "execution_count": 57,
   "metadata": {},
   "outputs": [
    {
     "data": {
      "text/plain": [
       "62716"
      ]
     },
     "execution_count": 57,
     "metadata": {},
     "output_type": "execute_result"
    }
   ],
   "source": [
    "len(registered_domains)"
   ]
  },
  {
   "cell_type": "code",
   "execution_count": 58,
   "metadata": {},
   "outputs": [
    {
     "data": {
      "text/plain": [
       "['paul-albrecht.com',\n",
       " 'virtualuna.de',\n",
       " 'tinnemans-scheepswerf.nl',\n",
       " 'hollerporfidi.it',\n",
       " 'hotelaquamarin.at',\n",
       " 'la-padre.ro',\n",
       " 'straightegyptians.com',\n",
       " 'bariez.com',\n",
       " 'globalternative.org',\n",
       " 'folkmusikhuset.se']"
      ]
     },
     "execution_count": 58,
     "metadata": {},
     "output_type": "execute_result"
    }
   ],
   "source": [
    "seed(1)\n",
    "sample(registered_domains, 10)"
   ]
  },
  {
   "cell_type": "code",
   "execution_count": null,
   "metadata": {},
   "outputs": [],
   "source": []
  },
  {
   "cell_type": "markdown",
   "metadata": {},
   "source": [
    "### Find domains (full domain name)"
   ]
  },
  {
   "cell_type": "code",
   "execution_count": 59,
   "metadata": {},
   "outputs": [],
   "source": [
    "full_domains = set()\n",
    "\n",
    "for domain, urls in dataset['de'].items():\n",
    "    full_domains.add(domain)    \n",
    "    \n",
    "for domain, urls in dataset['de'].items():\n",
    "    full_domains.add(domain)    \n",
    "    "
   ]
  },
  {
   "cell_type": "code",
   "execution_count": 60,
   "metadata": {},
   "outputs": [
    {
     "data": {
      "text/plain": [
       "77376"
      ]
     },
     "execution_count": 60,
     "metadata": {},
     "output_type": "execute_result"
    }
   ],
   "source": [
    "len(full_domains)"
   ]
  },
  {
   "cell_type": "code",
   "execution_count": 61,
   "metadata": {},
   "outputs": [
    {
     "data": {
      "text/plain": [
       "['www.ser-foundation.net',\n",
       " 'elanapet.pl',\n",
       " 'nadireader.org',\n",
       " 'anfn.de',\n",
       " 'www.creamatics.nl',\n",
       " 'www.a-gross.cz',\n",
       " 'malereiforschung.de',\n",
       " 'www.ecg-electro.eu',\n",
       " 'blog.wiesbaden.de',\n",
       " 'babynaturalgenderselection.com']"
      ]
     },
     "execution_count": 61,
     "metadata": {},
     "output_type": "execute_result"
    }
   ],
   "source": [
    "seed(1)\n",
    "sample(full_domains, 10)"
   ]
  },
  {
   "cell_type": "code",
   "execution_count": null,
   "metadata": {},
   "outputs": [],
   "source": []
  },
  {
   "cell_type": "code",
   "execution_count": null,
   "metadata": {},
   "outputs": [],
   "source": []
  },
  {
   "cell_type": "markdown",
   "metadata": {},
   "source": [
    "### Find unique domains extension statistics"
   ]
  },
  {
   "cell_type": "code",
   "execution_count": 62,
   "metadata": {},
   "outputs": [],
   "source": [
    "suffix_counter = Counter()\n",
    "\n",
    "for domain, urls in dataset['de'].items():\n",
    "    \n",
    "    suffix = tldextract.extract(domain).suffix\n",
    "    suffix_counter[suffix] += 1\n",
    "    \n",
    "    \n",
    "# for domain, urls in dataset['en'].items():\n",
    "    \n",
    "#     suffix = tldextract.extract(domain).suffix\n",
    "#     suffix_counter[suffix] += 1\n",
    "    \n",
    "    \n"
   ]
  },
  {
   "cell_type": "code",
   "execution_count": 63,
   "metadata": {},
   "outputs": [
    {
     "data": {
      "text/plain": [
       "[('com', 26360),\n",
       " ('de', 20093),\n",
       " ('org', 3584),\n",
       " ('net', 3403),\n",
       " ('ch', 2941),\n",
       " ('it', 2830),\n",
       " ('at', 2426),\n",
       " ('cz', 1876),\n",
       " ('eu', 1864),\n",
       " ('biz', 1091),\n",
       " ('nl', 981),\n",
       " ('info', 908),\n",
       " ('pl', 719),\n",
       " ('hu', 691),\n",
       " ('sk', 499)]"
      ]
     },
     "execution_count": 63,
     "metadata": {},
     "output_type": "execute_result"
    }
   ],
   "source": [
    "suffix_counter.most_common(15)"
   ]
  },
  {
   "cell_type": "markdown",
   "metadata": {},
   "source": [
    "### Find which domains fall in `\\bde\\b` pattern"
   ]
  },
  {
   "cell_type": "code",
   "execution_count": 64,
   "metadata": {},
   "outputs": [],
   "source": [
    "SUB_LANG_PATTERNS = [\n",
    "    (r'(lang=)(de)', r'\\1th'),\n",
    "    (r'(/)(de)(/)', r'\\1th\\3'),\n",
    "    (r'(/)(de)$', r'\\1th'),\n",
    "    (r'^(de)(\\.)', r'th\\2'), ## lang id as the sub domain\n",
    "    (r'^(german|ger|ge)(\\.)', r'th\\2'), ## lang id as the sub domain\n",
    "    (r'(/)(german|ger|ge)(/)', r'\\1th\\3'),\n",
    "    (r'(lang=)((german|ger|ge))', r'\\1th'),\n",
    "]"
   ]
  },
  {
   "cell_type": "code",
   "execution_count": 65,
   "metadata": {},
   "outputs": [
    {
     "data": {
      "application/vnd.jupyter.widget-view+json": {
       "model_id": "700d190a43cf425b80cac4d128fd6248",
       "version_major": 2,
       "version_minor": 0
      },
      "text/plain": [
       "HBox(children=(IntProgress(value=0, max=77376), HTML(value='')))"
      ]
     },
     "metadata": {},
     "output_type": "display_data"
    },
    {
     "name": "stdout",
     "output_type": "stream",
     "text": [
      "\n",
      "number of URLs that matched with the following patterns:\n"
     ]
    },
    {
     "data": {
      "text/plain": [
       "Counter({'(/)(de)(/)': 47792,\n",
       "         '(/)(german|ger|ge)(/)': 2544,\n",
       "         '(lang=)(de)': 4736,\n",
       "         '^(de)(\\\\.)': 432,\n",
       "         '(lang=)((german|ger|ge))': 341,\n",
       "         '(/)(de)$': 206,\n",
       "         '^(german|ger|ge)(\\\\.)': 16})"
      ]
     },
     "execution_count": 65,
     "metadata": {},
     "output_type": "execute_result"
    }
   ],
   "source": [
    "# มีความหลากหลายใน url format จริงๆ สงสัยต้องไปดู code เฉพาะของเขาแล้วมั้ง น่าจะมี handcraft เยอะอยู่\n",
    "# ดู en ไปแล้ว ดู mt บ้าง\n",
    "\n",
    "counter = Counter()\n",
    "\n",
    "res = []\n",
    "\n",
    "examples_urls_in_pattern = defaultdict(list)\n",
    "\n",
    "for domain, urls in tqdm(dataset['de'].items()):\n",
    "    \n",
    "    for pattern in SUB_LANG_PATTERNS:\n",
    "        for url in urls[:2]:\n",
    "            if re.search(pattern[0], url):\n",
    "                counter[pattern[0]] += 1\n",
    "\n",
    "                examples_urls_in_pattern[pattern[0]].append(url)\n",
    "\n",
    "print('number of URLs that matched with the following patterns:')\n",
    "counter"
   ]
  },
  {
   "cell_type": "code",
   "execution_count": 66,
   "metadata": {},
   "outputs": [
    {
     "name": "stdout",
     "output_type": "stream",
     "text": [
      "\n",
      "pattern: (/)(de)(/)\n",
      "urls (10 samples) http://www.buyinsicily.com/de/dienstleistungen-und-kontakte/conoscere-la-sicilia/province/catania/sehenswuerdigkeiten-in-catania.html\n",
      " - http://www.buyinsicily.com/de/wer-sind-wir/unserer-geschichte.html\n",
      " - http://www.nak.org/de/katechismus/12-gottesdienst-segenshandlungen-und-seelsorge/122-segenshandlungen/1222-konfirmation/12222-konfirmationsgeluebde-und-konfirmationssegen/\n",
      " - http://www.nak.org/de/katechismus/5-gottes-gebote/52-gottes-gebote-ausdruck-seiner-liebe/521-die-liebe-zu-gott/\n",
      " - www.messaggiamo.com/de/shoes/12732-shoes-you-need-for-summer-holiday.html\n",
      " - www.messaggiamo.com/de/gps/8817-spy-matrix-spy-the-ultimate-spy-cell-phone.html\n",
      " - knowingallah.com/de/articles/agnostizismus-mit-weniger-zufrieden-sein/\n",
      " - http://knowingallah.com/de/articles/warum-gibt-es-so-viele-religionen/\n",
      " - www.acidodivertido.com/de/category/en-pareja/\n",
      " - www.acidodivertido.com/de/son-dragones-khaleesi-nunca-pueden-ser-domesticados_2/\n",
      "\n",
      "\n",
      "pattern: (/)(german|ger|ge)(/)\n",
      "urls (10 samples) ciml.250x.com/archive/events/german/1944_29_november_albania/1944_29_november_german.html\n",
      " - ciml.250x.com/archive/stalin/german/band03/entweder-oder.html\n",
      " - theearlychurch.com/german/GEsd05-commissionedbychrist.html\n",
      " - theearlychurch.com/german/GEsd21-spiritualleprosy.html\n",
      " - www.creationism.org/german/saApostlesCreed_de.htm\n",
      " - http://www.creationism.org/german/woodpecker_de.htm\n",
      " - pravdaskop.ru/fengshui/german/Chto_takoe_fjen_shuj/Daosizm.html\n",
      " - http://pravdaskop.ru/fengshui/german/Chto_takoe_fjen_shuj/Daosizm.html\n",
      " - http://radioislam.net/historia/hitler/mkampf/ger/06.htm\n",
      " - http://www.skydivelillo.com/german/dz/alojamientos.html\n",
      "\n",
      "\n",
      "pattern: (lang=)(de)\n",
      "urls (10 samples) https://builttobrag.com/5-pitfalls-of-social-media/?lang=de\n",
      " - https://builttobrag.com/sweet-victory-video/?lang=de\n",
      " - http://losmonteros-rioreal.com/property-item/apartamento-en-gold-rio-real-285-000-e/?lang=de&print=print\n",
      " - http://www.obrasdarte.com/category/colunas/page/3/?lang=de\n",
      " - http://www.obrasdarte.com/calling-you/?lang=de\n",
      " - http://www.dokfest-muenchen.de/news_view_web.php?nid=160&lang=de\n",
      " - http://seriesanatomy.com/game-of-thrones-7x04-the-spoils-of-war-recensione-by-r-ed-s/?lang=de\n",
      " - http://seriesanatomy.com/greys-anatomy-12x07-something-against-you-recensione-by-s/?lang=de\n",
      " - http://www.gdiy.com/projects/led-charlieplex-cube-chrismas-tree-lights/index.php?lang=de\n",
      " - http://www.gdiy.com/projects/bronze-sculpting-lost-wax-casting/index.php?lang=de\n",
      "\n",
      "\n",
      "pattern: ^(de)(\\.)\n",
      "urls (10 samples) de.cassiopaea.org/2011/04/13/kapitel-1-der-channel/\n",
      " - de.cassiopaea.org/2011/04/01/kapitel-8-das-gesicht-gottes/?shared=email&msg=fail\n",
      " - de.sott.net/article/31016-SOTT-Video-Erdveranderungen-August-2017-Extremes-Wetter-planetarische-Umwalzungen-und-Feuerballe\n",
      " - de.sott.net/article/23737-Berichte-uber-zunehmende-seismische-Aktivitat-am-Nevado-del-Ruiz-Vulkan-in-Kolumbien\n",
      " - de.weather-forecast.ru/forecast/cn/yunfu/\n",
      " - de.weather-forecast.ru/forecast/region/do/provincia-de-barahona/\n",
      " - de.lac-annecy.com/service/1/152278-le-conty-loc-velos.html\n",
      " - de.muvs.org/verhuetung/pille-und-co/yris-id1920/?media_id=4146\n",
      " - de.citypass.com/articles/new-york/discovering-new-yorks-city-island\n",
      " - de.citypass.com/chicago/field-museum\n",
      "\n",
      "\n",
      "pattern: (lang=)((german|ger|ge))\n",
      "urls (10 samples) www.restaurantelaurentina.pt/index.php?lang=ge&id=bacalhau\n",
      " - www.restaurantelaurentina.pt/index.php?lang=ge&id=ementa\n",
      " - http://mentalmadness.biz/index.php?section=artists&lang=ger&ID=58\n",
      " - http://bedandbreakfast.de/booking.php?id=136267&lang=ge&rid=6\n",
      " - http://bedandbreakfast.de/hannover/index.php?lang=ge&lang=ge\n",
      " - http://www.fapu.de/modules/artikel/viewarticles.php?category=1111&Kat=05_%c2%fb%ef%f3%f1%ea_09_2012&sel_lang=german\n",
      " - http://www.aktivlogistik.de/index.php?option=com_content&task=blogcategory&id=27&Itemid=38&lang=german\n",
      " - http://www.aktivlogistik.de/index.php?option=com_content&task=blogcategory&id=26&Itemid=37&lang=german\n",
      " - gregoriuscorner.com/index.php?stiluslap=silver&menu=news&lang=ger&order=date&topic=topiclist&item=20&first=220&choosedir=&choosealbum=&szuro=\n",
      " - gregoriuscorner.com/index.php?stiluslap=steel&menu=videos&lang=ger&order=descger&topic=topiclist&item=20&first=\n",
      "\n",
      "\n",
      "pattern: (/)(de)$\n",
      "urls (10 samples) http://www.eea.europa.eu/media/feeds/de\n",
      " - www.mapsofbalkan.com/shop/product_info.php/products_id/77/language/de\n",
      " - www.mapsofbalkan.com/shop/product_info.php/cPath/5_39/products_id/608/language/de\n",
      " - http://richardlagendijk.nl/cnp/item/index/2970/de\n",
      " - richardlagendijk.nl/cnp/event/index/1/de\n",
      " - http://www.padovamedievale.it/info/monselice/de\n",
      " - http://www.padovamedievale.it/info/einsiedelei-kamaldulenser-rua/de\n",
      " - commons.m.wikimedia.org/wiki/Commons:Project_scope/de\n",
      " - http://www.entoen.nu/statenbijbel/de\n",
      " - http://www.entoen.nu/florisv/de\n",
      "\n",
      "\n",
      "pattern: ^(german|ger|ge)(\\.)\n",
      "urls (10 samples) german.prm-taiwan.com/F0005/Straw_Bending_Machine.php?page=1&muns=\n",
      " - german.prm-taiwan.com/F0009/Gear.php?page=1&muns=27&type=com&subclasses=S1021\n",
      " - german.wxhy.com.cn/sale-278174-12000mm-length-1010-2000mm-width-jis-g-3131-sphc-astm-a36-hot-rolled-steel-sheet.html\n",
      " - german.yabla.com/de/player_cdn.php?tlang_id=en&id=8132\n",
      " - german.yabla.com/de/player_cdn.php?tlang_id=es&id=11757\n",
      " - german.watv.org/truth/truth_life/content_melchizedek.asp\n",
      " - german.watv.org/press/list.asp?page=6\n",
      " - german.vemmetofte.dk/historie/\n",
      " - ger.oza.hn/2010/05/web-2-0-doppelleben/\n",
      " - german.123worker.com/tasks/index.php?k=%20Wie%20viel%20Geld%20machen%20Friseure%20eine%20Woche%20Wie%20kann%20ich%20online%20arbeiten?%20Wie%20kann%20ich%20Online-Job%20machen?%20Wie%20kann%20ich%20Online%20arbeiten?%20Wie%20man%201500%20Dollar%20schnell%20verdient%20Wie%20man%20Geld%20durch%20Online-Arbeit%20verdient%20Wie%20man%20Geld%20auf%20paypal%20schnell%20verdient%20Wie%20man%20Geld%20verdienen%20online%20schnell%20paypal\n",
      "\n"
     ]
    }
   ],
   "source": [
    "for pattern, urls in examples_urls_in_pattern.items():\n",
    "    \n",
    "    print('\\npattern:', pattern)\n",
    "    print('urls (10 samples)', '\\n - '.join(list(urls)[:10]))\n",
    "    print('')"
   ]
  },
  {
   "cell_type": "code",
   "execution_count": null,
   "metadata": {},
   "outputs": [],
   "source": []
  },
  {
   "cell_type": "code",
   "execution_count": 31,
   "metadata": {},
   "outputs": [],
   "source": [
    "## Send http HEAD Request to that modified URLs ,"
   ]
  },
  {
   "cell_type": "markdown",
   "metadata": {},
   "source": [
    "### 3) Substitute /de/ as /th/, call a HTTP HEAD request and check returned HTTP[link text](https:// [link text](https://)) staus\n"
   ]
  },
  {
   "cell_type": "code",
   "execution_count": 67,
   "metadata": {},
   "outputs": [],
   "source": [
    "# SUB_LANG_PATTERNS = [\n",
    "#     (r'(lang=)(de)', r'\\1th'),\n",
    "#     (r'(/)(de)(/)', r'\\1th\\3'),\n",
    "#     (r'(/)(german|ger|ge)(/)', r'\\1th\\3'),\n",
    "#     (r'(lang=)((german|ger|ge))', r'\\1th'),\n",
    "# ]"
   ]
  },
  {
   "cell_type": "code",
   "execution_count": 68,
   "metadata": {},
   "outputs": [],
   "source": [
    "# def test_substitue_lang():\n",
    "#     urls = [\n",
    "#         \"balozi.lv/pub/index.php?lang=ger\",\n",
    "#         \"balozi.lv/pub/index.php?lang=ge\",\n",
    "#         \"balozi.lv/pub/index.php?lang=german\",\n",
    "#         \"balozi.lv/de/index.php?lang=de\",\n",
    "#         \"balozi.lv/ge/index.php\"\n",
    "#     ]\n",
    "#     for url in urls:\n",
    "#         for i in range(0, len(SUB_LANG_PATTERNS)):\n",
    "#             sub_pattern = SUB_LANG_PATTERNS[i]\n",
    "#             match, replace = sub_pattern\n",
    "\n",
    "#             modified_url = re.sub(match, replace, url)\n",
    "\n",
    "#             print('sub_pattern={},modified_url={}, url={}'.format(i,modified_url, url))\n",
    "            \n",
    "#         print('')\n",
    "        \n",
    "# test_substitue_lang()"
   ]
  },
  {
   "cell_type": "code",
   "execution_count": 132,
   "metadata": {},
   "outputs": [],
   "source": [
    "threadLocal = threading.local()\n",
    "\n",
    "\n",
    "def get_driver(executable_path=\"chromedriver\"):\n",
    "    driver = getattr(threadLocal, 'driver', None)\n",
    "    \n",
    "    if driver is None:\n",
    "        chromeOptions = webdriver.ChromeOptions()\n",
    "        chromeOptions.add_argument(\"--headless\")\n",
    "        chromeOptions.add_argument(\"--no-sandbox\")\n",
    "        chromeOptions.add_argument('--ignore-certificate-errors')\n",
    "\n",
    "        driver = webdriver.Chrome(executable_path, options=chromeOptions)\n",
    "        setattr(threadLocal, 'driver', driver)\n",
    "\n",
    "    return driver\n",
    "\n",
    "# driver = get_driver(executable_path=\"/Users/saiko/chromedriver_78\")\n",
    "# driver"
   ]
  },
  {
   "cell_type": "code",
   "execution_count": 137,
   "metadata": {},
   "outputs": [
    {
     "name": "stdout",
     "output_type": "stream",
     "text": [
      "200, modifield_url: http://ajz-engineering.de/th/AJZ-Engineering-GmbH__137/NewsDetail__17520/ , is_thai: True\n",
      "200, modifield_url: http://ajz-engineering.de/th/AJZ-Engineering-GmbH__137/NewsDetail__17520/ , is_thai: True\n",
      "200, modifield_url: http://www.museedesblindes.fr/th/la-boutique-du-musee/librairie/item/les-panzers-face-au-debarquement-6-9-juin-1944 , is_thai: True\n",
      "200, modifield_url: http://www.talayproperty.com/th/the-gallery-condo-jomtien-soi-8-for-rent/l2581 , is_thai: True\n"
     ]
    }
   ],
   "source": [
    "def requests_retry_session(\n",
    "    retries=3,\n",
    "    backoff_factor=0.3,\n",
    "    status_forcelist=(500, 502, 504),\n",
    "    session=None,\n",
    "):\n",
    "    session = session or requests.Session()\n",
    "    retry = Retry(\n",
    "        total=retries,\n",
    "        read=retries,\n",
    "        connect=retries,\n",
    "        backoff_factor=backoff_factor,\n",
    "        status_forcelist=status_forcelist,\n",
    "    )\n",
    "    adapter = HTTPAdapter(max_retries=retry)\n",
    "    \n",
    "    session.mount('http://', adapter)\n",
    "    session.mount('https://', adapter)\n",
    "    return session\n",
    "\n",
    "\n",
    "def get_status(url):\n",
    "    r = None\n",
    "    url_correct = url\n",
    "    \n",
    "    s = requests.Session()\n",
    "    \n",
    "    try:\n",
    "        if 'http://' not in url:\n",
    "            url_http = 'http://'  + url\n",
    "            try: \n",
    "#                 session = requests.Session()\n",
    "                r = requests_retry_session(session=s).head(url_http)\n",
    "                url_correct = url_http\n",
    "            except:\n",
    "                        \n",
    "                try:\n",
    "    #                 session = requests.Session()                \n",
    "                    url_https = 'https://'  + url\n",
    "                    r = requests_retry_session(session=s).head(url_https)\n",
    "                    url_correct = url_https\n",
    "\n",
    "                except:\n",
    "                    pass\n",
    "        else:\n",
    "            r = requests_retry_session(session=s).head(url)\n",
    "        if r == None:\n",
    "            code= 0\n",
    "        else:\n",
    "            code = r.status_code\n",
    "    except Exception as e:\n",
    "#         print('exception: get_status()')\n",
    "#         print('url', url)\n",
    "#         print(e)\n",
    "        code = 0  # probably bad domain name\n",
    "    finally:\n",
    "        s.close()\n",
    "    return code, url_correct\n",
    "\n",
    "def detect_thai_language(text):\n",
    "    \n",
    "    pattern = r'[ก-ฮ]'\n",
    "\n",
    "    if re.search(re.compile(pattern), text):\n",
    "        return True\n",
    "    return False\n",
    "\n",
    "\n",
    "def get_content(url):\n",
    "    driver = get_driver(executable_path=\"/Users/saiko/chromedriver_78\")\n",
    "    try:\n",
    "        driver.get(url)\n",
    "        text = driver.page_source\n",
    "    except Exception as e:\n",
    "        \n",
    "#         print('exception: get_content()')\n",
    "#         print('url:', url)\n",
    "#         print(e)\n",
    "        return ''\n",
    "    finally:\n",
    "        driver.close()\n",
    "        driver.quit()\n",
    "    return text\n"
   ]
  },
  {
   "cell_type": "code",
   "execution_count": 134,
   "metadata": {},
   "outputs": [],
   "source": [
    "from concurrent.futures import ThreadPoolExecutor, as_completed"
   ]
  },
  {
   "cell_type": "code",
   "execution_count": 135,
   "metadata": {},
   "outputs": [],
   "source": [
    "\n",
    "def substitue_lang_worker(match, replace, url):\n",
    "    \n",
    "#     print('substitue_lang_worker called.')\n",
    "#     print('match, replace, url', match, replace, url)\n",
    "    modified_url = re.sub(match, replace, url)\n",
    "    status, url_modified_correct = get_status(modified_url)\n",
    "\n",
    "#     print('status', status)\n",
    "    is_thai = None\n",
    "    if int(status) == 200:\n",
    "        is_thai = detect_thai_language(get_content(url_modified_correct))\n",
    "        if is_thai:\n",
    "            print('{}, modifield_url: {} , is_thai: {}'.format(status, url_modified_correct, is_thai))\n",
    "\n",
    "            \n",
    "#     result = ()\n",
    "#     print('result:', result)\n",
    "#     substitute_lang_worker_callback([result])\n",
    "    \n",
    "    result = (is_thai, status, match, url_modified_correct)\n",
    "\n",
    "#     pattern_counter[match][status] += 1\n",
    "#     full_domain = utils.extract_full_domain(modified_url)\n",
    "\n",
    "#     urls_with_status[status][full_domain] = {\n",
    "#         \"is_thai\": is_thai,\n",
    "#         \"example_modified_url\": [modified_url],\n",
    "#         'pattern': match,\n",
    "#     } \n",
    "    \n",
    "#     print('substitue_lang_worker return: ', result)\n",
    "    return result\n"
   ]
  },
  {
   "cell_type": "code",
   "execution_count": null,
   "metadata": {},
   "outputs": [],
   "source": []
  },
  {
   "cell_type": "code",
   "execution_count": 136,
   "metadata": {},
   "outputs": [
    {
     "name": "stdout",
     "output_type": "stream",
     "text": [
      "\n",
      "pattern: (/)(de)(/) replace: \\1th\\3\n",
      "number of urls for this pattern: 47792\n",
      "\n"
     ]
    },
    {
     "data": {
      "application/vnd.jupyter.widget-view+json": {
       "model_id": "8ef07f403ee04ffa9ddca9ec32794571",
       "version_major": 2,
       "version_minor": 0
      },
      "text/plain": [
       "HBox(children=(IntProgress(value=0, max=47792), HTML(value='')))"
      ]
     },
     "metadata": {},
     "output_type": "display_data"
    },
    {
     "name": "stdout",
     "output_type": "stream",
     "text": [
      "200, modifield_url: http://www.oil-painting-online.com/th/expressionism-oil-painting/xu-jiang-oil-painting-art.html , is_thai: True\n",
      "exception: get_content()\n",
      "url: http://form.de/th/news/sensing-spaces-architecture-reimagined\n",
      "HTTPConnectionPool(host='127.0.0.1', port=62745): Max retries exceeded with url: /session/1eefba2c0e65032202ae34fee3bd0a53/url (Caused by NewConnectionError('<urllib3.connection.HTTPConnection object at 0x1359a6c50>: Failed to establish a new connection: [Errno 61] Connection refused'))\n",
      "exception: get_content()\n",
      "url: http://www.bedzzle.it/th/ferienwohnung/riviera-romagnola\n",
      "HTTPConnectionPool(host='127.0.0.1', port=62313): Max retries exceeded with url: /session/1d90a4426c65e551ea693e9656df9c25/url (Caused by NewConnectionError('<urllib3.connection.HTTPConnection object at 0x1359dccf8>: Failed to establish a new connection: [Errno 61] Connection refused'))\n",
      "exception: get_content()\n",
      "url: http://www.bedzzle.it/th/ferienwohnung/provinz-bosnia-erzegovina\n",
      "HTTPConnectionPool(host='127.0.0.1', port=62310): Max retries exceeded with url: /session/68beb7f416b53e57cd8a833949a9aa59/url (Caused by NewConnectionError('<urllib3.connection.HTTPConnection object at 0x1359adb38>: Failed to establish a new connection: [Errno 61] Connection refused'))\n",
      "exception: get_content()\n",
      "url: http://chromebygoogle.net/th/2012/04/oracle-google-wanted-easy-route-to-android-revenue-with-java/\n",
      "HTTPConnectionPool(host='127.0.0.1', port=62745): Max retries exceeded with url: /session/1eefba2c0e65032202ae34fee3bd0a53/url (Caused by NewConnectionError('<urllib3.connection.HTTPConnection object at 0x135ce1d68>: Failed to establish a new connection: [Errno 61] Connection refused'))\n",
      "exception: get_content()\n",
      "url: http://chromebygoogle.net/th/2012/04/google-details-chrome-browser-security-testing-technology-3/?edit=1\n",
      "HTTPConnectionPool(host='127.0.0.1', port=62356): Max retries exceeded with url: /session/462156c62297d981e3919900c2ac21ee/url (Caused by NewConnectionError('<urllib3.connection.HTTPConnection object at 0x135996a20>: Failed to establish a new connection: [Errno 61] Connection refused'))\n",
      "exception: get_content()\n",
      "url: http://www.anderswelt-import.eu/th/reviews/write?info=3070\n",
      "HTTPConnectionPool(host='127.0.0.1', port=62862): Max retries exceeded with url: /session/0b49463f003f003eb8e1b085575714f6/url (Caused by NewConnectionError('<urllib3.connection.HTTPConnection object at 0x135976438>: Failed to establish a new connection: [Errno 61] Connection refused'))\n",
      "exception: get_content()\n",
      "url: http://www.biztree.com/th/doc/e-mail-regelungen-fur-mitarbeiter-lang-D6624\n",
      "HTTPConnectionPool(host='127.0.0.1', port=62837): Max retries exceeded with url: /session/c34b372a99a42e0c2579b575ee007599/url (Caused by NewConnectionError('<urllib3.connection.HTTPConnection object at 0x135a222b0>: Failed to establish a new connection: [Errno 61] Connection refused'))\n",
      "exception: get_content()\n",
      "url: http://www.biztree.com/th/doc/konzession--machbarkeitstest-D6195\n",
      "HTTPConnectionPool(host='127.0.0.1', port=62836): Max retries exceeded with url: /session/3fdfcd7aa2f119d5da048befe843c279/url (Caused by NewConnectionError('<urllib3.connection.HTTPConnection object at 0x19638c128>: Failed to establish a new connection: [Errno 61] Connection refused'))\n",
      "exception: get_content()exception: get_content()\n",
      "\n",
      "url: url:http://www.anderswelt-import.eu/th/reviews/write?info=2073\n",
      "('Connection aborted.', RemoteDisconnected('Remote end closed connection without response'))\n",
      " http://www.burnfateasy.info/th/article.488bb6/Studie-zeigt-95-der-Dieters-Fail-to-Burn-Belly-Fat/\n",
      "('Connection aborted.', RemoteDisconnected('Remote end closed connection without response'))\n",
      "exception: get_content()\n",
      "url: http://colorconsole.de/cmd/th/Windows_Vista/netsh/wlan/set/blockednetworks.htm\n",
      "HTTPConnectionPool(host='127.0.0.1', port=62837): Max retries exceeded with url: /session/c34b372a99a42e0c2579b575ee007599/url (Caused by NewConnectionError('<urllib3.connection.HTTPConnection object at 0x135ca4390>: Failed to establish a new connection: [Errno 61] Connection refused'))\n",
      "exception: get_content()\n",
      "url: http://colorconsole.de/cmd/th/Windows_7/netsh/advfirewall/mainmode/set/rule.htm\n",
      "HTTPConnectionPool(host='127.0.0.1', port=62836): Max retries exceeded with url: /session/3fdfcd7aa2f119d5da048befe843c279/url (Caused by NewConnectionError('<urllib3.connection.HTTPConnection object at 0x139ba1438>: Failed to establish a new connection: [Errno 61] Connection refused'))\n"
     ]
    },
    {
     "ename": "KeyboardInterrupt",
     "evalue": "",
     "output_type": "error",
     "traceback": [
      "\u001b[0;31m---------------------------------------------------------------------------\u001b[0m",
      "\u001b[0;31mKeyboardInterrupt\u001b[0m                         Traceback (most recent call last)",
      "\u001b[0;32m<ipython-input-136-189d28afd95d>\u001b[0m in \u001b[0;36m<module>\u001b[0;34m\u001b[0m\n\u001b[1;32m     27\u001b[0m \u001b[0;31m#                 processes.append(executor.submit(substitue_lang_worker, ))\u001b[0m\u001b[0;34m\u001b[0m\u001b[0;34m\u001b[0m\u001b[0m\n\u001b[0;32m---> 28\u001b[0;31m                 \u001b[0mresults\u001b[0m \u001b[0;34m=\u001b[0m \u001b[0mlist\u001b[0m\u001b[0;34m(\u001b[0m\u001b[0mtqdm\u001b[0m\u001b[0;34m(\u001b[0m\u001b[0mexecutor\u001b[0m\u001b[0;34m.\u001b[0m\u001b[0mmap\u001b[0m\u001b[0;34m(\u001b[0m\u001b[0m_substitue_lang_worker\u001b[0m\u001b[0;34m,\u001b[0m \u001b[0murls\u001b[0m\u001b[0;34m)\u001b[0m\u001b[0;34m,\u001b[0m \u001b[0mtotal\u001b[0m\u001b[0;34m=\u001b[0m\u001b[0mlen\u001b[0m\u001b[0;34m(\u001b[0m\u001b[0murls\u001b[0m\u001b[0;34m)\u001b[0m\u001b[0;34m)\u001b[0m\u001b[0;34m)\u001b[0m\u001b[0;34m\u001b[0m\u001b[0m\n\u001b[0m\u001b[1;32m     29\u001b[0m \u001b[0;34m\u001b[0m\u001b[0m\n",
      "\u001b[0;32m~/.local/lib/python3.7/site-packages/tqdm/notebook.py\u001b[0m in \u001b[0;36m__iter__\u001b[0;34m(self, *args, **kwargs)\u001b[0m\n\u001b[1;32m    221\u001b[0m         \u001b[0;32mtry\u001b[0m\u001b[0;34m:\u001b[0m\u001b[0;34m\u001b[0m\u001b[0m\n\u001b[0;32m--> 222\u001b[0;31m             \u001b[0;32mfor\u001b[0m \u001b[0mobj\u001b[0m \u001b[0;32min\u001b[0m \u001b[0msuper\u001b[0m\u001b[0;34m(\u001b[0m\u001b[0mtqdm_notebook\u001b[0m\u001b[0;34m,\u001b[0m \u001b[0mself\u001b[0m\u001b[0;34m)\u001b[0m\u001b[0;34m.\u001b[0m\u001b[0m__iter__\u001b[0m\u001b[0;34m(\u001b[0m\u001b[0;34m*\u001b[0m\u001b[0margs\u001b[0m\u001b[0;34m,\u001b[0m \u001b[0;34m**\u001b[0m\u001b[0mkwargs\u001b[0m\u001b[0;34m)\u001b[0m\u001b[0;34m:\u001b[0m\u001b[0;34m\u001b[0m\u001b[0m\n\u001b[0m\u001b[1;32m    223\u001b[0m                 \u001b[0;31m# return super(tqdm...) will not catch exception\u001b[0m\u001b[0;34m\u001b[0m\u001b[0;34m\u001b[0m\u001b[0m\n",
      "\u001b[0;32m~/.local/lib/python3.7/site-packages/tqdm/std.py\u001b[0m in \u001b[0;36m__iter__\u001b[0;34m(self)\u001b[0m\n\u001b[1;32m   1086\u001b[0m \u001b[0;34m\u001b[0m\u001b[0m\n\u001b[0;32m-> 1087\u001b[0;31m         \u001b[0;32mfor\u001b[0m \u001b[0mobj\u001b[0m \u001b[0;32min\u001b[0m \u001b[0miterable\u001b[0m\u001b[0;34m:\u001b[0m\u001b[0;34m\u001b[0m\u001b[0m\n\u001b[0m\u001b[1;32m   1088\u001b[0m             \u001b[0;32myield\u001b[0m \u001b[0mobj\u001b[0m\u001b[0;34m\u001b[0m\u001b[0m\n",
      "\u001b[0;32m~/miniconda3/envs/saiko/lib/python3.7/concurrent/futures/_base.py\u001b[0m in \u001b[0;36mresult_iterator\u001b[0;34m()\u001b[0m\n\u001b[1;32m    585\u001b[0m                     \u001b[0;32mif\u001b[0m \u001b[0mtimeout\u001b[0m \u001b[0;32mis\u001b[0m \u001b[0;32mNone\u001b[0m\u001b[0;34m:\u001b[0m\u001b[0;34m\u001b[0m\u001b[0m\n\u001b[0;32m--> 586\u001b[0;31m                         \u001b[0;32myield\u001b[0m \u001b[0mfs\u001b[0m\u001b[0;34m.\u001b[0m\u001b[0mpop\u001b[0m\u001b[0;34m(\u001b[0m\u001b[0;34m)\u001b[0m\u001b[0;34m.\u001b[0m\u001b[0mresult\u001b[0m\u001b[0;34m(\u001b[0m\u001b[0;34m)\u001b[0m\u001b[0;34m\u001b[0m\u001b[0m\n\u001b[0m\u001b[1;32m    587\u001b[0m                     \u001b[0;32melse\u001b[0m\u001b[0;34m:\u001b[0m\u001b[0;34m\u001b[0m\u001b[0m\n",
      "\u001b[0;32m~/miniconda3/envs/saiko/lib/python3.7/concurrent/futures/_base.py\u001b[0m in \u001b[0;36mresult\u001b[0;34m(self, timeout)\u001b[0m\n\u001b[1;32m    426\u001b[0m \u001b[0;34m\u001b[0m\u001b[0m\n\u001b[0;32m--> 427\u001b[0;31m             \u001b[0mself\u001b[0m\u001b[0;34m.\u001b[0m\u001b[0m_condition\u001b[0m\u001b[0;34m.\u001b[0m\u001b[0mwait\u001b[0m\u001b[0;34m(\u001b[0m\u001b[0mtimeout\u001b[0m\u001b[0;34m)\u001b[0m\u001b[0;34m\u001b[0m\u001b[0m\n\u001b[0m\u001b[1;32m    428\u001b[0m \u001b[0;34m\u001b[0m\u001b[0m\n",
      "\u001b[0;32m~/miniconda3/envs/saiko/lib/python3.7/threading.py\u001b[0m in \u001b[0;36mwait\u001b[0;34m(self, timeout)\u001b[0m\n\u001b[1;32m    295\u001b[0m             \u001b[0;32mif\u001b[0m \u001b[0mtimeout\u001b[0m \u001b[0;32mis\u001b[0m \u001b[0;32mNone\u001b[0m\u001b[0;34m:\u001b[0m\u001b[0;34m\u001b[0m\u001b[0m\n\u001b[0;32m--> 296\u001b[0;31m                 \u001b[0mwaiter\u001b[0m\u001b[0;34m.\u001b[0m\u001b[0macquire\u001b[0m\u001b[0;34m(\u001b[0m\u001b[0;34m)\u001b[0m\u001b[0;34m\u001b[0m\u001b[0m\n\u001b[0m\u001b[1;32m    297\u001b[0m                 \u001b[0mgotit\u001b[0m \u001b[0;34m=\u001b[0m \u001b[0;32mTrue\u001b[0m\u001b[0;34m\u001b[0m\u001b[0m\n",
      "\u001b[0;31mKeyboardInterrupt\u001b[0m: ",
      "\nDuring handling of the above exception, another exception occurred:\n",
      "\u001b[0;31mKeyboardInterrupt\u001b[0m                         Traceback (most recent call last)",
      "\u001b[0;32m<ipython-input-136-189d28afd95d>\u001b[0m in \u001b[0;36m<module>\u001b[0;34m\u001b[0m\n\u001b[1;32m     26\u001b[0m \u001b[0;31m#                 print('url:', url)\u001b[0m\u001b[0;34m\u001b[0m\u001b[0;34m\u001b[0m\u001b[0m\n\u001b[1;32m     27\u001b[0m \u001b[0;31m#                 processes.append(executor.submit(substitue_lang_worker, ))\u001b[0m\u001b[0;34m\u001b[0m\u001b[0;34m\u001b[0m\u001b[0m\n\u001b[0;32m---> 28\u001b[0;31m                 \u001b[0mresults\u001b[0m \u001b[0;34m=\u001b[0m \u001b[0mlist\u001b[0m\u001b[0;34m(\u001b[0m\u001b[0mtqdm\u001b[0m\u001b[0;34m(\u001b[0m\u001b[0mexecutor\u001b[0m\u001b[0;34m.\u001b[0m\u001b[0mmap\u001b[0m\u001b[0;34m(\u001b[0m\u001b[0m_substitue_lang_worker\u001b[0m\u001b[0;34m,\u001b[0m \u001b[0murls\u001b[0m\u001b[0;34m)\u001b[0m\u001b[0;34m,\u001b[0m \u001b[0mtotal\u001b[0m\u001b[0;34m=\u001b[0m\u001b[0mlen\u001b[0m\u001b[0;34m(\u001b[0m\u001b[0murls\u001b[0m\u001b[0;34m)\u001b[0m\u001b[0;34m)\u001b[0m\u001b[0;34m)\u001b[0m\u001b[0;34m\u001b[0m\u001b[0m\n\u001b[0m\u001b[1;32m     29\u001b[0m \u001b[0;34m\u001b[0m\u001b[0m\n\u001b[1;32m     30\u001b[0m         \u001b[0;32mfor\u001b[0m \u001b[0mresult\u001b[0m \u001b[0;32min\u001b[0m \u001b[0mresults\u001b[0m\u001b[0;34m:\u001b[0m\u001b[0;34m\u001b[0m\u001b[0m\n",
      "\u001b[0;32m~/miniconda3/envs/saiko/lib/python3.7/concurrent/futures/_base.py\u001b[0m in \u001b[0;36m__exit__\u001b[0;34m(self, exc_type, exc_val, exc_tb)\u001b[0m\n\u001b[1;32m    609\u001b[0m \u001b[0;34m\u001b[0m\u001b[0m\n\u001b[1;32m    610\u001b[0m     \u001b[0;32mdef\u001b[0m \u001b[0m__exit__\u001b[0m\u001b[0;34m(\u001b[0m\u001b[0mself\u001b[0m\u001b[0;34m,\u001b[0m \u001b[0mexc_type\u001b[0m\u001b[0;34m,\u001b[0m \u001b[0mexc_val\u001b[0m\u001b[0;34m,\u001b[0m \u001b[0mexc_tb\u001b[0m\u001b[0;34m)\u001b[0m\u001b[0;34m:\u001b[0m\u001b[0;34m\u001b[0m\u001b[0m\n\u001b[0;32m--> 611\u001b[0;31m         \u001b[0mself\u001b[0m\u001b[0;34m.\u001b[0m\u001b[0mshutdown\u001b[0m\u001b[0;34m(\u001b[0m\u001b[0mwait\u001b[0m\u001b[0;34m=\u001b[0m\u001b[0;32mTrue\u001b[0m\u001b[0;34m)\u001b[0m\u001b[0;34m\u001b[0m\u001b[0m\n\u001b[0m\u001b[1;32m    612\u001b[0m         \u001b[0;32mreturn\u001b[0m \u001b[0;32mFalse\u001b[0m\u001b[0;34m\u001b[0m\u001b[0m\n\u001b[1;32m    613\u001b[0m \u001b[0;34m\u001b[0m\u001b[0m\n",
      "\u001b[0;32m~/miniconda3/envs/saiko/lib/python3.7/concurrent/futures/thread.py\u001b[0m in \u001b[0;36mshutdown\u001b[0;34m(self, wait)\u001b[0m\n\u001b[1;32m    202\u001b[0m         \u001b[0;32mif\u001b[0m \u001b[0mwait\u001b[0m\u001b[0;34m:\u001b[0m\u001b[0;34m\u001b[0m\u001b[0m\n\u001b[1;32m    203\u001b[0m             \u001b[0;32mfor\u001b[0m \u001b[0mt\u001b[0m \u001b[0;32min\u001b[0m \u001b[0mself\u001b[0m\u001b[0;34m.\u001b[0m\u001b[0m_threads\u001b[0m\u001b[0;34m:\u001b[0m\u001b[0;34m\u001b[0m\u001b[0m\n\u001b[0;32m--> 204\u001b[0;31m                 \u001b[0mt\u001b[0m\u001b[0;34m.\u001b[0m\u001b[0mjoin\u001b[0m\u001b[0;34m(\u001b[0m\u001b[0;34m)\u001b[0m\u001b[0;34m\u001b[0m\u001b[0m\n\u001b[0m\u001b[1;32m    205\u001b[0m     \u001b[0mshutdown\u001b[0m\u001b[0;34m.\u001b[0m\u001b[0m__doc__\u001b[0m \u001b[0;34m=\u001b[0m \u001b[0m_base\u001b[0m\u001b[0;34m.\u001b[0m\u001b[0mExecutor\u001b[0m\u001b[0;34m.\u001b[0m\u001b[0mshutdown\u001b[0m\u001b[0;34m.\u001b[0m\u001b[0m__doc__\u001b[0m\u001b[0;34m\u001b[0m\u001b[0m\n",
      "\u001b[0;32m~/miniconda3/envs/saiko/lib/python3.7/threading.py\u001b[0m in \u001b[0;36mjoin\u001b[0;34m(self, timeout)\u001b[0m\n\u001b[1;32m   1030\u001b[0m \u001b[0;34m\u001b[0m\u001b[0m\n\u001b[1;32m   1031\u001b[0m         \u001b[0;32mif\u001b[0m \u001b[0mtimeout\u001b[0m \u001b[0;32mis\u001b[0m \u001b[0;32mNone\u001b[0m\u001b[0;34m:\u001b[0m\u001b[0;34m\u001b[0m\u001b[0m\n\u001b[0;32m-> 1032\u001b[0;31m             \u001b[0mself\u001b[0m\u001b[0;34m.\u001b[0m\u001b[0m_wait_for_tstate_lock\u001b[0m\u001b[0;34m(\u001b[0m\u001b[0;34m)\u001b[0m\u001b[0;34m\u001b[0m\u001b[0m\n\u001b[0m\u001b[1;32m   1033\u001b[0m         \u001b[0;32melse\u001b[0m\u001b[0;34m:\u001b[0m\u001b[0;34m\u001b[0m\u001b[0m\n\u001b[1;32m   1034\u001b[0m             \u001b[0;31m# the behavior of a negative timeout isn't documented, but\u001b[0m\u001b[0;34m\u001b[0m\u001b[0;34m\u001b[0m\u001b[0m\n",
      "\u001b[0;32m~/miniconda3/envs/saiko/lib/python3.7/threading.py\u001b[0m in \u001b[0;36m_wait_for_tstate_lock\u001b[0;34m(self, block, timeout)\u001b[0m\n\u001b[1;32m   1046\u001b[0m         \u001b[0;32mif\u001b[0m \u001b[0mlock\u001b[0m \u001b[0;32mis\u001b[0m \u001b[0;32mNone\u001b[0m\u001b[0;34m:\u001b[0m  \u001b[0;31m# already determined that the C code is done\u001b[0m\u001b[0;34m\u001b[0m\u001b[0m\n\u001b[1;32m   1047\u001b[0m             \u001b[0;32massert\u001b[0m \u001b[0mself\u001b[0m\u001b[0;34m.\u001b[0m\u001b[0m_is_stopped\u001b[0m\u001b[0;34m\u001b[0m\u001b[0m\n\u001b[0;32m-> 1048\u001b[0;31m         \u001b[0;32melif\u001b[0m \u001b[0mlock\u001b[0m\u001b[0;34m.\u001b[0m\u001b[0macquire\u001b[0m\u001b[0;34m(\u001b[0m\u001b[0mblock\u001b[0m\u001b[0;34m,\u001b[0m \u001b[0mtimeout\u001b[0m\u001b[0;34m)\u001b[0m\u001b[0;34m:\u001b[0m\u001b[0;34m\u001b[0m\u001b[0m\n\u001b[0m\u001b[1;32m   1049\u001b[0m             \u001b[0mlock\u001b[0m\u001b[0;34m.\u001b[0m\u001b[0mrelease\u001b[0m\u001b[0;34m(\u001b[0m\u001b[0;34m)\u001b[0m\u001b[0;34m\u001b[0m\u001b[0m\n\u001b[1;32m   1050\u001b[0m             \u001b[0mself\u001b[0m\u001b[0;34m.\u001b[0m\u001b[0m_stop\u001b[0m\u001b[0;34m(\u001b[0m\u001b[0;34m)\u001b[0m\u001b[0;34m\u001b[0m\u001b[0m\n",
      "\u001b[0;31mKeyboardInterrupt\u001b[0m: "
     ]
    },
    {
     "name": "stdout",
     "output_type": "stream",
     "text": [
      "exception: get_content()\n",
      "url: http://www.immobilsarda.com/index.php?s=public&lang=de&p=immobili&filterurl=vendita/-/villa/-/-/-/-/th/immobili/-/-/&pageID=1\n",
      "HTTPConnectionPool(host='127.0.0.1', port=62836): Max retries exceeded with url: /session/3fdfcd7aa2f119d5da048befe843c279/url (Caused by NewConnectionError('<urllib3.connection.HTTPConnection object at 0x139b91470>: Failed to establish a new connection: [Errno 61] Connection refused'))\n"
     ]
    }
   ],
   "source": [
    "urls_with_status = defaultdict(defaultdict)\n",
    "pattern_counter = defaultdict(Counter)\n",
    "\n",
    "    \n",
    "for pattern, urls in examples_urls_in_pattern.items():\n",
    "      \n",
    "    for sub_pattern in SUB_LANG_PATTERNS:\n",
    "        if pattern == sub_pattern[0]:\n",
    "            match, replace = sub_pattern[0], sub_pattern[1]\n",
    "            break\n",
    "\n",
    "    print('')\n",
    "    print('pattern:', pattern, 'replace:', replace)\n",
    "    print('number of urls for this pattern:', len(urls))\n",
    "    print('')\n",
    "\n",
    "    _substitue_lang_worker = partial(substitue_lang_worker,\n",
    "                                     match, replace)\n",
    "#     urls = urls[:1]\n",
    "#     print(urls)\n",
    "    results = []\n",
    "    try:    \n",
    "        \n",
    "        with ThreadPoolExecutor(max_workers=8) as executor:\n",
    "            for url in urls:\n",
    "#                 print('url:', url)\n",
    "#                 processes.append(executor.submit(substitue_lang_worker, ))\n",
    "                results = list(tqdm(executor.map(_substitue_lang_worker, urls), total=len(urls)))\n",
    "\n",
    "        for result in results:\n",
    "\n",
    "\n",
    "            is_thai, status, match, modified_url = result\n",
    "\n",
    "            pattern_counter[match][status] += 1\n",
    "            full_domain = utils.extract_full_domain(modified_url)\n",
    "\n",
    "            urls_with_status[status][full_domain] = {\n",
    "                \"is_thai\": is_thai,\n",
    "                \"example_modified_url\": [modified_url],\n",
    "                'pattern': match,\n",
    "            } \n",
    "    \n",
    "    except Exception as e:\n",
    "        print(e)\n",
    "\n",
    "print('task done')\n"
   ]
  },
  {
   "cell_type": "code",
   "execution_count": 128,
   "metadata": {},
   "outputs": [
    {
     "data": {
      "text/plain": [
       "defaultdict(collections.Counter,\n",
       "            {'(/)(de)(/)': Counter({301: 1}),\n",
       "             '(/)(german|ger|ge)(/)': Counter({404: 1}),\n",
       "             '(lang=)(de)': Counter({0: 1}),\n",
       "             '^(de)(\\\\.)': Counter({404: 1}),\n",
       "             '(lang=)((german|ger|ge))': Counter({302: 1}),\n",
       "             '(/)(de)$': Counter({301: 1}),\n",
       "             '^(german|ger|ge)(\\\\.)': Counter({0: 1})})"
      ]
     },
     "execution_count": 128,
     "metadata": {},
     "output_type": "execute_result"
    }
   ],
   "source": [
    "pattern_counter"
   ]
  },
  {
   "cell_type": "code",
   "execution_count": 112,
   "metadata": {},
   "outputs": [
    {
     "data": {
      "text/plain": [
       "defaultdict(None, {})"
      ]
     },
     "execution_count": 112,
     "metadata": {},
     "output_type": "execute_result"
    }
   ],
   "source": [
    "urls_with_status[200]"
   ]
  },
  {
   "cell_type": "code",
   "execution_count": 38,
   "metadata": {},
   "outputs": [],
   "source": [
    "from datetime import datetime, timezone\n",
    "\n",
    "\n",
    "def utc_to_local(utc_dt, tz):\n",
    "    return utc_dt.replace(tzinfo=timezone.utc).astimezone(tz=None)\n",
    "\n",
    "def get_current_datetime(tz):\n",
    "    \n",
    "    dt = utc_to_local(datetime.now(), tz=tz)\n",
    "    return dt\n",
    "\n",
    "def get_datetime_str(dt):\n",
    "    \n",
    "    return dt.strftime('%d.%m.%Y_%H:%M')\n",
    "\n"
   ]
  },
  {
   "cell_type": "code",
   "execution_count": 39,
   "metadata": {},
   "outputs": [
    {
     "name": "stdout",
     "output_type": "stream",
     "text": [
      "start writing result file to:  ../data/urls_with_status-24.11.2019_22:09.json\n",
      "Done\n"
     ]
    }
   ],
   "source": [
    "filename = 'urls_with_status-{}.json'.format(get_datetime_str(get_current_datetime(tz=7)))\n",
    "out_path = '../data/' + filename\n",
    "print('start writing result file to: ', out_path)\n",
    "with open(out_path, 'w', encoding='utf-8') as f:\n",
    "    \n",
    "    json.dump(urls_with_status, f, ensure_ascii=False)\n",
    "    \n",
    "print('Done')"
   ]
  },
  {
   "cell_type": "code",
   "execution_count": 41,
   "metadata": {},
   "outputs": [],
   "source": [
    "# cnt = Counter()\n",
    "# for item, v in http_status_de.items():\n",
    "# #     if v['status'][0] == 200:\n",
    "#     cnt[v['status'][0]] += 1"
   ]
  },
  {
   "cell_type": "code",
   "execution_count": 42,
   "metadata": {},
   "outputs": [],
   "source": [
    "# cnt"
   ]
  },
  {
   "cell_type": "code",
   "execution_count": null,
   "metadata": {},
   "outputs": [],
   "source": []
  },
  {
   "cell_type": "markdown",
   "metadata": {},
   "source": [
    "### Examples:\n",
    "\n",
    "- https://2fish.co/th/church/does-my-church-really-matter/\n",
    "\n",
    "- http://www.oil-painting-online.com/th/expressionism-oil-painting/li-shan-oil-painting-art.html\n",
    "\n",
    "- https://golfauvietnam.com/orient-golf/?lang=th\n",
    "\n",
    "- https://gsuite.google.se/intl/th/terms/sla.html\n",
    "\n",
    "- http://www.xd-cinema.com/th/analytical-comparison-3d-4d-5d-6d-7d-9d-truck-mobile-cinema/"
   ]
  },
  {
   "cell_type": "code",
   "execution_count": null,
   "metadata": {},
   "outputs": [],
   "source": []
  },
  {
   "cell_type": "markdown",
   "metadata": {},
   "source": [
    "## Detect Language"
   ]
  },
  {
   "cell_type": "code",
   "execution_count": 83,
   "metadata": {},
   "outputs": [],
   "source": [
    "def fetch_content(url):\n",
    "    \"\"\"fetch HTML content (excluded HTML <script> tags)\"\"\"\n",
    "    pass\n",
    "def detect_language(content):\n",
    "    \"\"\"return language id\"\"\"\n",
    "    pass"
   ]
  },
  {
   "cell_type": "code",
   "execution_count": 84,
   "metadata": {},
   "outputs": [],
   "source": [
    "cnt = Counter()\n",
    "for item, v in http_status_de.items():\n",
    "    if v['status'][0] == 200:\n",
    "        url = v['th_url'][0]\n",
    "        \n",
    "        content = fetch_content(url)\n",
    "        \n",
    "        "
   ]
  },
  {
   "cell_type": "code",
   "execution_count": null,
   "metadata": {},
   "outputs": [],
   "source": []
  }
 ],
 "metadata": {
  "kernelspec": {
   "display_name": "Python 3",
   "language": "python",
   "name": "python3"
  },
  "language_info": {
   "codemirror_mode": {
    "name": "ipython",
    "version": 3
   },
   "file_extension": ".py",
   "mimetype": "text/x-python",
   "name": "python",
   "nbconvert_exporter": "python",
   "pygments_lexer": "ipython3",
   "version": "3.7.0"
  }
 },
 "nbformat": 4,
 "nbformat_minor": 4
}
