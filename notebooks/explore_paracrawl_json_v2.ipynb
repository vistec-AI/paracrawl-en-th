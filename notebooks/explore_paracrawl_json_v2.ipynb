{
 "cells": [
  {
   "cell_type": "code",
   "execution_count": 18,
   "metadata": {},
   "outputs": [],
   "source": [
    "from collections import Counter, defaultdict\n",
    "\n",
    "import rapidjson as json\n",
    "\n"
   ]
  },
  {
   "cell_type": "code",
   "execution_count": 19,
   "metadata": {},
   "outputs": [],
   "source": [
    "with open('../data/en-de.bicleaner07.v2.json', 'r', encoding='utf-8') as f:\n",
    "    \n",
    "    dataset = json.load(f)"
   ]
  },
  {
   "cell_type": "code",
   "execution_count": 20,
   "metadata": {},
   "outputs": [
    {
     "name": "stdout",
     "output_type": "stream",
     "text": [
      "Total number of domains: 77376\n"
     ]
    }
   ],
   "source": [
    "# 1. Count number of domains\n",
    "print('Total number of domains: {}'.format(len(dataset.keys())))\n"
   ]
  },
  {
   "cell_type": "code",
   "execution_count": 21,
   "metadata": {},
   "outputs": [],
   "source": [
    "# 2. Count number of URLs for each domains\n",
    "\n",
    "url_counter = Counter()\n",
    "for de_domain, domain_item in dataset.items():\n",
    "    \n",
    "    url_counter[de_domain] += len(domain_item['items'])\n",
    "    \n",
    "    "
   ]
  },
  {
   "cell_type": "code",
   "execution_count": 22,
   "metadata": {},
   "outputs": [
    {
     "data": {
      "text/plain": [
       "[('games144.com', 104968),\n",
       " ('yacht-berth.com', 44624),\n",
       " ('www.topofart.com', 30249),\n",
       " ('de.lyricsfeast.com', 28074),\n",
       " ('de.clearharmony.net', 27187),\n",
       " ('de.carta.ro', 22630),\n",
       " ('www.booking-centre-online.com', 22426),\n",
       " ('www.hosteras.it', 20862),\n",
       " ('www.cosmeticanalysis.com', 20676),\n",
       " ('de.freedownloadmanager.org', 19428),\n",
       " ('www.agriturismo.it', 17538),\n",
       " ('freehotels.info', 17090),\n",
       " ('www.djshop.de', 16163),\n",
       " ('www.file-extension.info', 15884),\n",
       " ('www.informare.it', 14644),\n",
       " ('www.bco-rentacar.com', 14637),\n",
       " ('www.sunshine-seeds.de', 14489),\n",
       " ('www.securitystronghold.com', 14372),\n",
       " ('www.irw-press.com', 14205),\n",
       " ('www.woodbusinessportal.com', 14140),\n",
       " ('www.burnfateasy.info', 14101),\n",
       " ('de.boats.com', 13669),\n",
       " ('de.accommodationz.com', 13567),\n",
       " ('www.epo.org', 13444),\n",
       " ('www.unitjuggler.com', 12902)]"
      ]
     },
     "execution_count": 22,
     "metadata": {},
     "output_type": "execute_result"
    }
   ],
   "source": [
    "url_counter.most_common(25)"
   ]
  },
  {
   "cell_type": "code",
   "execution_count": 23,
   "metadata": {},
   "outputs": [
    {
     "name": "stdout",
     "output_type": "stream",
     "text": [
      "Total number of URLs: 8008126\n"
     ]
    }
   ],
   "source": [
    "# 3. Count number of URLs total\n",
    "\n",
    "print('Total number of URLs: {}'.format(sum(url_counter.values())))\n"
   ]
  },
  {
   "cell_type": "code",
   "execution_count": 24,
   "metadata": {},
   "outputs": [],
   "source": [
    "# 4. Count number of URLs Segment for each domain\n",
    "\n",
    "segment_counter = Counter()\n",
    "for de_domain, domain_item in dataset.items():\n",
    "    \n",
    "    for item in domain_item['items'].values():\n",
    "        segment_counter[de_domain] += int(item['number_of_segment'])\n",
    "    \n",
    "    "
   ]
  },
  {
   "cell_type": "code",
   "execution_count": 25,
   "metadata": {},
   "outputs": [
    {
     "data": {
      "text/plain": [
       "[('de.clearharmony.net', 439143),\n",
       " ('games144.com', 267364),\n",
       " ('www.messaggiamo.com', 252590),\n",
       " ('www.burnfateasy.info', 213978),\n",
       " ('www.securitystronghold.com', 189954),\n",
       " ('www.agriturismo.it', 184756),\n",
       " ('www.mcreveil.org', 169863),\n",
       " ('w2.vatican.va', 150591),\n",
       " ('www.nderf.org', 143716),\n",
       " ('www.epo.org', 120615),\n",
       " ('www.irw-press.com', 117546),\n",
       " ('mb-soft.com', 116913),\n",
       " ('www.solvusoft.com', 113327),\n",
       " ('www.vienna.info', 111080),\n",
       " ('www.informare.it', 107745),\n",
       " ('www.anywayanyday.pl', 101636),\n",
       " ('www.file-extension.info', 100647),\n",
       " ('chromebygoogle.net', 96079),\n",
       " ('freehotels.info', 95663),\n",
       " ('www.booking-centre-online.com', 95455)]"
      ]
     },
     "execution_count": 25,
     "metadata": {},
     "output_type": "execute_result"
    }
   ],
   "source": [
    "segment_counter.most_common(20)"
   ]
  },
  {
   "cell_type": "code",
   "execution_count": 26,
   "metadata": {},
   "outputs": [
    {
     "name": "stdout",
     "output_type": "stream",
     "text": [
      "Total number of segments: 36918845\n"
     ]
    }
   ],
   "source": [
    "\n",
    "print('Total number of segments: {}'.format(sum(segment_counter.values())))\n"
   ]
  },
  {
   "cell_type": "code",
   "execution_count": null,
   "metadata": {},
   "outputs": [],
   "source": []
  }
 ],
 "metadata": {
  "kernelspec": {
   "display_name": "Python 3",
   "language": "python",
   "name": "python3"
  },
  "language_info": {
   "codemirror_mode": {
    "name": "ipython",
    "version": 3
   },
   "file_extension": ".py",
   "mimetype": "text/x-python",
   "name": "python",
   "nbconvert_exporter": "python",
   "pygments_lexer": "ipython3",
   "version": "3.7.0"
  }
 },
 "nbformat": 4,
 "nbformat_minor": 4
}
